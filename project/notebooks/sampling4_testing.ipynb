{
 "cells": [
  {
   "cell_type": "markdown",
   "id": "3d2c0b0b",
   "metadata": {},
   "source": [
    "For later use to take email samples that have never seen by the model before."
   ]
  },
  {
   "cell_type": "code",
   "execution_count": 2,
   "id": "56816902",
   "metadata": {},
   "outputs": [],
   "source": [
    "import pandas as pd"
   ]
  },
  {
   "cell_type": "code",
   "execution_count": 2,
   "id": "264cc9c6",
   "metadata": {},
   "outputs": [
    {
     "name": "stdout",
     "output_type": "stream",
     "text": [
      "<class 'pandas.core.frame.DataFrame'>\n",
      "Index: 101586 entries, 144249 to 453024\n",
      "Data columns (total 10 columns):\n",
      " #   Column             Non-Null Count   Dtype                           \n",
      "---  ------             --------------   -----                           \n",
      " 0   from               101586 non-null  object                          \n",
      " 1   to                 101586 non-null  object                          \n",
      " 2   cc                 101586 non-null  object                          \n",
      " 3   bcc                101586 non-null  object                          \n",
      " 4   subject            101586 non-null  object                          \n",
      " 5   date               101586 non-null  datetime64[us, America/New_York]\n",
      " 6   msg_id             101586 non-null  object                          \n",
      " 7   clean_body         101586 non-null  object                          \n",
      " 8   has_other_content  101586 non-null  bool                            \n",
      " 9   is_forwarded       101586 non-null  bool                            \n",
      "dtypes: bool(2), datetime64[us, America/New_York](1), object(7)\n",
      "memory usage: 7.2+ MB\n"
     ]
    }
   ],
   "source": [
    "df = pd.read_parquet(\"../data/processed/test_unlabeled.parquet\")\n",
    "df.info()"
   ]
  },
  {
   "cell_type": "code",
   "execution_count": 3,
   "id": "bc7e8145",
   "metadata": {},
   "outputs": [
    {
     "name": "stdout",
     "output_type": "stream",
     "text": [
      "<class 'pandas.core.frame.DataFrame'>\n",
      "Index: 200 entries, 173528 to 401404\n",
      "Data columns (total 10 columns):\n",
      " #   Column             Non-Null Count  Dtype                           \n",
      "---  ------             --------------  -----                           \n",
      " 0   from               200 non-null    object                          \n",
      " 1   to                 200 non-null    object                          \n",
      " 2   cc                 200 non-null    object                          \n",
      " 3   bcc                200 non-null    object                          \n",
      " 4   subject            200 non-null    object                          \n",
      " 5   date               200 non-null    datetime64[us, America/New_York]\n",
      " 6   msg_id             200 non-null    object                          \n",
      " 7   clean_body         200 non-null    object                          \n",
      " 8   has_other_content  200 non-null    bool                            \n",
      " 9   is_forwarded       200 non-null    bool                            \n",
      "dtypes: bool(2), datetime64[us, America/New_York](1), object(7)\n",
      "memory usage: 14.5+ KB\n"
     ]
    }
   ],
   "source": [
    "sampled = df.sample(n=200, random_state=42)\n",
    "sampled.info()"
   ]
  },
  {
   "cell_type": "code",
   "execution_count": 4,
   "id": "dac40e9d",
   "metadata": {},
   "outputs": [],
   "source": [
    "sampled.to_parquet(\"../data/processed/test_2label_200_0.parquet\")"
   ]
  },
  {
   "cell_type": "markdown",
   "id": "249575b4",
   "metadata": {},
   "source": [
    "test_2label_200_0 is the first sampling of test_unlabeled. \n",
    "Note: remove these emails from test_unlabeled when sampling in the future."
   ]
  },
  {
   "cell_type": "code",
   "execution_count": 3,
   "id": "ea07f381",
   "metadata": {},
   "outputs": [],
   "source": [
    "df = pd.read_parquet(\"../data/processed/test_2label_200_0.parquet\")\n",
    "df.to_csv(\"../data/processed/test_2label_200_0.csv\", index=False)"
   ]
  }
 ],
 "metadata": {
  "kernelspec": {
   "display_name": ".venv",
   "language": "python",
   "name": "python3"
  },
  "language_info": {
   "codemirror_mode": {
    "name": "ipython",
    "version": 3
   },
   "file_extension": ".py",
   "mimetype": "text/x-python",
   "name": "python",
   "nbconvert_exporter": "python",
   "pygments_lexer": "ipython3",
   "version": "3.13.3"
  }
 },
 "nbformat": 4,
 "nbformat_minor": 5
}
