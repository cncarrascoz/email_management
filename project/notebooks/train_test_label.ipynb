{
 "cells": [
  {
   "cell_type": "code",
   "execution_count": 2,
   "id": "dc881f45",
   "metadata": {},
   "outputs": [],
   "source": [
    "import pandas as pd\n",
    "import duckdb, pathlib"
   ]
  },
  {
   "cell_type": "code",
   "execution_count": 3,
   "id": "eef486ff",
   "metadata": {},
   "outputs": [],
   "source": [
    "con = duckdb.connect(\"../data/processed/enron.duckdb\")"
   ]
  },
  {
   "cell_type": "code",
   "execution_count": 7,
   "id": "44f4beec",
   "metadata": {},
   "outputs": [
    {
     "name": "stdout",
     "output_type": "stream",
     "text": [
      "     name\n",
      "0  parsed\n"
     ]
    }
   ],
   "source": [
    "# List all tables in the DuckDB database to find the correct table name\n",
    "print(con.execute(\"SHOW TABLES\").fetchdf())"
   ]
  },
  {
   "cell_type": "code",
   "execution_count": 11,
   "id": "2a74a41e",
   "metadata": {},
   "outputs": [
    {
     "data": {
      "text/plain": [
       "<duckdb.duckdb.DuckDBPyConnection at 0x114506b30>"
      ]
     },
     "execution_count": 11,
     "metadata": {},
     "output_type": "execute_result"
    }
   ],
   "source": [
    "con.execute(\"\"\"\n",
    "COPY (SELECT * FROM parsed) TO '../data/processed/cleaned_emails.parquet' (FORMAT PARQUET);\n",
    "\"\"\")\n"
   ]
  },
  {
   "cell_type": "code",
   "execution_count": 16,
   "id": "0502b1d0",
   "metadata": {},
   "outputs": [
    {
     "name": "stdout",
     "output_type": "stream",
     "text": [
      "                      from                       to cc bcc    subject  \\\n",
      "0  phillip.allen@enron.com     tim.belden@enron.com                     \n",
      "1  phillip.allen@enron.com  john.lavorato@enron.com               Re:   \n",
      "2  phillip.allen@enron.com   leah.arsdall@enron.com          Re: test   \n",
      "3  phillip.allen@enron.com    randall.gay@enron.com                     \n",
      "4  phillip.allen@enron.com     greg.piper@enron.com         Re: Hello   \n",
      "\n",
      "                       date                                         msg_id  \\\n",
      "0 2001-05-14 19:39:00-04:00  <18782981.1075855378110.JavaMail.evans@thyme>   \n",
      "1 2001-05-04 16:51:00-04:00  <15464986.1075855378456.JavaMail.evans@thyme>   \n",
      "2 2000-10-18 06:00:00-04:00  <24216240.1075855687451.JavaMail.evans@thyme>   \n",
      "3 2000-10-23 09:13:00-04:00  <13505866.1075863688222.JavaMail.evans@thyme>   \n",
      "4 2000-08-31 08:07:00-04:00  <30922949.1075863688243.JavaMail.evans@thyme>   \n",
      "\n",
      "                                          clean_body  has_other_content  \\\n",
      "0                               Here is our forecast              False   \n",
      "1  Traveling to have a business meeting takes the...              False   \n",
      "2                      test successful. way to go!!!              False   \n",
      "3  Randy, Can you send me a schedule of the salar...              False   \n",
      "4                  Let's shoot for Tuesday at 11:45.              False   \n",
      "\n",
      "   is_forwarded  \n",
      "0         False  \n",
      "1         False  \n",
      "2         False  \n",
      "3         False  \n",
      "4         False  \n"
     ]
    }
   ],
   "source": [
    "df = con.table(\"parsed\").fetchdf()\n",
    "print(df.head())"
   ]
  },
  {
   "cell_type": "code",
   "execution_count": 15,
   "id": "1e660c59",
   "metadata": {},
   "outputs": [
    {
     "name": "stdout",
     "output_type": "stream",
     "text": [
      "                      from                       to cc bcc    subject  \\\n",
      "0  phillip.allen@enron.com     tim.belden@enron.com                     \n",
      "1  phillip.allen@enron.com  john.lavorato@enron.com               Re:   \n",
      "2  phillip.allen@enron.com   leah.arsdall@enron.com          Re: test   \n",
      "3  phillip.allen@enron.com    randall.gay@enron.com                     \n",
      "4  phillip.allen@enron.com     greg.piper@enron.com         Re: Hello   \n",
      "\n",
      "                       date                                         msg_id  \\\n",
      "0 2001-05-14 23:39:00+00:00  <18782981.1075855378110.JavaMail.evans@thyme>   \n",
      "1 2001-05-04 20:51:00+00:00  <15464986.1075855378456.JavaMail.evans@thyme>   \n",
      "2 2000-10-18 10:00:00+00:00  <24216240.1075855687451.JavaMail.evans@thyme>   \n",
      "3 2000-10-23 13:13:00+00:00  <13505866.1075863688222.JavaMail.evans@thyme>   \n",
      "4 2000-08-31 12:07:00+00:00  <30922949.1075863688243.JavaMail.evans@thyme>   \n",
      "\n",
      "                                          clean_body  has_other_content  \\\n",
      "0                               Here is our forecast              False   \n",
      "1  Traveling to have a business meeting takes the...              False   \n",
      "2                      test successful. way to go!!!              False   \n",
      "3  Randy, Can you send me a schedule of the salar...              False   \n",
      "4                  Let's shoot for Tuesday at 11:45.              False   \n",
      "\n",
      "   is_forwarded  \n",
      "0         False  \n",
      "1         False  \n",
      "2         False  \n",
      "3         False  \n",
      "4         False  \n"
     ]
    }
   ],
   "source": [
    "# df = pd.read_parquet(\"../data/processed/cleaned_emails.parquet\")\n",
    "# print(df.head())"
   ]
  },
  {
   "cell_type": "code",
   "execution_count": 18,
   "id": "b943bd15",
   "metadata": {},
   "outputs": [],
   "source": [
    "from sklearn.model_selection import train_test_split\n",
    "train, test = train_test_split(df, test_size=0.2, random_state=42, stratify=None)\n",
    "train.to_parquet(\"../data/processed/train_unlabeled.parquet\")\n",
    "test.to_parquet(\"../data/processed/test_unlabeled.parquet\")\n"
   ]
  },
  {
   "cell_type": "markdown",
   "id": "2a1ac08f",
   "metadata": {},
   "source": [
    "Now, we still need a small sample of, say, 800 emails that I will manually label and will train the baseline model in. Then will train the model in the remaining emails. I will manually label those emails that the model is the least confident in and i will add them to the training_labeled and remove them from the training_unlabeled, and repeat a couple times (perhaps 2-3)."
   ]
  },
  {
   "cell_type": "code",
   "execution_count": 35,
   "id": "35faaa96",
   "metadata": {},
   "outputs": [],
   "source": [
    "train_unlabeled_0, train_to_label = train_test_split(train, test_size=0.002, random_state=42, stratify=None)\n",
    "train_unlabeled_0.to_parquet(\"../data/processed/train_unlabeled_0.parquet\") # has ~400k - 800 emails\n",
    "train_to_label.to_parquet(\"../data/processed/train_to_label.parquet\") # has 800 emails initially"
   ]
  },
  {
   "cell_type": "markdown",
   "id": "f7f04819",
   "metadata": {},
   "source": [
    "Confirming the split correctly happened."
   ]
  },
  {
   "cell_type": "code",
   "execution_count": 39,
   "id": "93bf6e77",
   "metadata": {},
   "outputs": [],
   "source": [
    "train_df = pd.read_parquet(\"../data/processed/train_unlabeled.parquet\", engine='pyarrow')\n",
    "train_un0_df = pd.read_parquet(\"../data/processed/train_unlabeled_0.parquet\", engine='pyarrow')\n",
    "train_tol_df = pd.read_parquet(\"../data/processed/train_to_label.parquet\", engine='pyarrow')"
   ]
  },
  {
   "cell_type": "code",
   "execution_count": 40,
   "id": "4abc3a9b",
   "metadata": {},
   "outputs": [
    {
     "name": "stdout",
     "output_type": "stream",
     "text": [
      "<class 'pandas.core.frame.DataFrame'>\n",
      "Index: 406342 entries, 421447 to 121958\n",
      "Data columns (total 10 columns):\n",
      " #   Column             Non-Null Count   Dtype                           \n",
      "---  ------             --------------   -----                           \n",
      " 0   from               406342 non-null  object                          \n",
      " 1   to                 406342 non-null  object                          \n",
      " 2   cc                 406342 non-null  object                          \n",
      " 3   bcc                406342 non-null  object                          \n",
      " 4   subject            406342 non-null  object                          \n",
      " 5   date               406342 non-null  datetime64[us, America/New_York]\n",
      " 6   msg_id             406342 non-null  object                          \n",
      " 7   clean_body         406342 non-null  object                          \n",
      " 8   has_other_content  406342 non-null  bool                            \n",
      " 9   is_forwarded       406342 non-null  bool                            \n",
      "dtypes: bool(2), datetime64[us, America/New_York](1), object(7)\n",
      "memory usage: 28.7+ MB\n"
     ]
    }
   ],
   "source": [
    "train_df.info()"
   ]
  },
  {
   "cell_type": "code",
   "execution_count": 41,
   "id": "5f9ebbd5",
   "metadata": {},
   "outputs": [
    {
     "name": "stdout",
     "output_type": "stream",
     "text": [
      "<class 'pandas.core.frame.DataFrame'>\n",
      "Index: 405529 entries, 423984 to 243046\n",
      "Data columns (total 10 columns):\n",
      " #   Column             Non-Null Count   Dtype                           \n",
      "---  ------             --------------   -----                           \n",
      " 0   from               405529 non-null  object                          \n",
      " 1   to                 405529 non-null  object                          \n",
      " 2   cc                 405529 non-null  object                          \n",
      " 3   bcc                405529 non-null  object                          \n",
      " 4   subject            405529 non-null  object                          \n",
      " 5   date               405529 non-null  datetime64[us, America/New_York]\n",
      " 6   msg_id             405529 non-null  object                          \n",
      " 7   clean_body         405529 non-null  object                          \n",
      " 8   has_other_content  405529 non-null  bool                            \n",
      " 9   is_forwarded       405529 non-null  bool                            \n",
      "dtypes: bool(2), datetime64[us, America/New_York](1), object(7)\n",
      "memory usage: 28.6+ MB\n"
     ]
    }
   ],
   "source": [
    "train_un0_df.info()"
   ]
  },
  {
   "cell_type": "code",
   "execution_count": 42,
   "id": "4da381f4",
   "metadata": {},
   "outputs": [
    {
     "name": "stdout",
     "output_type": "stream",
     "text": [
      "<class 'pandas.core.frame.DataFrame'>\n",
      "Index: 813 entries, 448549 to 152527\n",
      "Data columns (total 10 columns):\n",
      " #   Column             Non-Null Count  Dtype                           \n",
      "---  ------             --------------  -----                           \n",
      " 0   from               813 non-null    object                          \n",
      " 1   to                 813 non-null    object                          \n",
      " 2   cc                 813 non-null    object                          \n",
      " 3   bcc                813 non-null    object                          \n",
      " 4   subject            813 non-null    object                          \n",
      " 5   date               813 non-null    datetime64[us, America/New_York]\n",
      " 6   msg_id             813 non-null    object                          \n",
      " 7   clean_body         813 non-null    object                          \n",
      " 8   has_other_content  813 non-null    bool                            \n",
      " 9   is_forwarded       813 non-null    bool                            \n",
      "dtypes: bool(2), datetime64[us, America/New_York](1), object(7)\n",
      "memory usage: 58.8+ KB\n"
     ]
    }
   ],
   "source": [
    "train_tol_df.info()"
   ]
  },
  {
   "cell_type": "markdown",
   "id": "053fe7e0",
   "metadata": {},
   "source": [
    "Now I will manually label the 800 emails."
   ]
  },
  {
   "cell_type": "code",
   "execution_count": 67,
   "id": "edb71a47",
   "metadata": {},
   "outputs": [
    {
     "data": {
      "text/html": [
       "<div>\n",
       "<style scoped>\n",
       "    .dataframe tbody tr th:only-of-type {\n",
       "        vertical-align: middle;\n",
       "    }\n",
       "\n",
       "    .dataframe tbody tr th {\n",
       "        vertical-align: top;\n",
       "    }\n",
       "\n",
       "    .dataframe thead th {\n",
       "        text-align: right;\n",
       "    }\n",
       "</style>\n",
       "<table border=\"1\" class=\"dataframe\">\n",
       "  <thead>\n",
       "    <tr style=\"text-align: right;\">\n",
       "      <th></th>\n",
       "      <th>from</th>\n",
       "      <th>to</th>\n",
       "      <th>cc</th>\n",
       "      <th>bcc</th>\n",
       "      <th>subject</th>\n",
       "      <th>date</th>\n",
       "      <th>msg_id</th>\n",
       "      <th>clean_body</th>\n",
       "      <th>has_other_content</th>\n",
       "      <th>is_forwarded</th>\n",
       "      <th>label</th>\n",
       "    </tr>\n",
       "  </thead>\n",
       "  <tbody>\n",
       "    <tr>\n",
       "      <th>448549</th>\n",
       "      <td>kayne.coulter@enron.com</td>\n",
       "      <td>jay.wills@enron.com, cyril.price@enron.com, john.kinser@enron.com, rudy.acevedo@enron.com, richard.hrabal@enron.com, juan.hernandez@enron.com, greg.trefz@enron.com, miguel.garcia@enron.com, russell.ballato@enron.com, joe.stepenovitch@enron.com, joe.errigo@enron.com, doug.miller@enron.com, larry.campbell@enron.com, keller.mayeaux@enron.com, chad.starnes@enron.com, dean.laurent@enron.com, don.baughman@enron.com, lawrence.clayton@enron.com, christopher.watts@enron.com, steve.olinde@enron.com, larry.jester@enron.com</td>\n",
       "      <td></td>\n",
       "      <td></td>\n",
       "      <td>Alternate Location for NYISO Schedules</td>\n",
       "      <td>2001-02-13 02:29:00-05:00</td>\n",
       "      <td>&lt;19602093.1075851837161.JavaMail.evans@thyme&gt;</td>\n",
       "      <td></td>\n",
       "      <td>False</td>\n",
       "      <td>True</td>\n",
       "      <td>fwd_chain</td>\n",
       "    </tr>\n",
       "    <tr>\n",
       "      <th>306937</th>\n",
       "      <td>kay.mann@enron.com</td>\n",
       "      <td>christina.valdez@enron.com</td>\n",
       "      <td></td>\n",
       "      <td></td>\n",
       "      <td>Dick's aloha</td>\n",
       "      <td>2001-02-20 09:17:00-05:00</td>\n",
       "      <td>&lt;9135302.1075845816031.JavaMail.evans@thyme&gt;</td>\n",
       "      <td>Hey there, I'm going to try very hard to make it to Dick's farewell party. Who did the invitations? It is so clever. Kay</td>\n",
       "      <td>False</td>\n",
       "      <td>False</td>\n",
       "      <td></td>\n",
       "    </tr>\n",
       "  </tbody>\n",
       "</table>\n",
       "</div>"
      ],
      "text/plain": [
       "                           from  \\\n",
       "448549  kayne.coulter@enron.com   \n",
       "306937       kay.mann@enron.com   \n",
       "\n",
       "                                                                                                                                                                                                                                                                                                                                                                                                                                                                                                                                           to  \\\n",
       "448549  jay.wills@enron.com, cyril.price@enron.com, john.kinser@enron.com, rudy.acevedo@enron.com, richard.hrabal@enron.com, juan.hernandez@enron.com, greg.trefz@enron.com, miguel.garcia@enron.com, russell.ballato@enron.com, joe.stepenovitch@enron.com, joe.errigo@enron.com, doug.miller@enron.com, larry.campbell@enron.com, keller.mayeaux@enron.com, chad.starnes@enron.com, dean.laurent@enron.com, don.baughman@enron.com, lawrence.clayton@enron.com, christopher.watts@enron.com, steve.olinde@enron.com, larry.jester@enron.com   \n",
       "306937                                                                                                                                                                                                                                                                                                                                                                                                                                                                                                             christina.valdez@enron.com   \n",
       "\n",
       "       cc bcc                                 subject  \\\n",
       "448549         Alternate Location for NYISO Schedules   \n",
       "306937                                   Dick's aloha   \n",
       "\n",
       "                            date  \\\n",
       "448549 2001-02-13 02:29:00-05:00   \n",
       "306937 2001-02-20 09:17:00-05:00   \n",
       "\n",
       "                                               msg_id  \\\n",
       "448549  <19602093.1075851837161.JavaMail.evans@thyme>   \n",
       "306937   <9135302.1075845816031.JavaMail.evans@thyme>   \n",
       "\n",
       "                                                                                                                      clean_body  \\\n",
       "448549                                                                                                                             \n",
       "306937  Hey there, I'm going to try very hard to make it to Dick's farewell party. Who did the invitations? It is so clever. Kay   \n",
       "\n",
       "       has_other_content is_forwarded      label  \n",
       "448549             False         True  fwd_chain  \n",
       "306937             False        False             "
      ]
     },
     "execution_count": 67,
     "metadata": {},
     "output_type": "execute_result"
    }
   ],
   "source": [
    "pd.set_option('display.max_colwidth', None)\n",
    "train_tol_df.head(2)"
   ]
  },
  {
   "cell_type": "code",
   "execution_count": 44,
   "id": "ab4868ff",
   "metadata": {},
   "outputs": [],
   "source": [
    "train_tol_df[\"label\"] = \"\""
   ]
  },
  {
   "cell_type": "code",
   "execution_count": null,
   "id": "d1a4b5a3",
   "metadata": {},
   "outputs": [],
   "source": [
    "train_tol_df.at[448549, \"label\"] = \"logistics\"\n",
    "train_tol_df.at[306937, \"label\"] = \"purely_personal\"\n",
    "train_tol_df.at[402914, \"label\"] = \"purely_personal\"\n",
    "train_tol_df.at[469118, \"label\"] = \"company_business\"\n",
    "train_tol_df.at[369161, \"label\"] = \"company_business\"\n",
    "train_tol_df.at[32576, \"label\"] = \"fwd_chain\"\n"
   ]
  },
  {
   "cell_type": "code",
   "execution_count": 65,
   "id": "0b96b32e",
   "metadata": {},
   "outputs": [],
   "source": [
    "train_tol_df.loc[train_tol_df[\"is_forwarded\"] == True, \"label\"] = \"fwd_chain\""
   ]
  },
  {
   "cell_type": "code",
   "execution_count": 68,
   "id": "10f486bd",
   "metadata": {},
   "outputs": [],
   "source": [
    "train_tol_df.to_parquet(\"../data/processed/train_to_label_fwd.parquet\", engine='pyarrow')"
   ]
  },
  {
   "cell_type": "markdown",
   "id": "e3d372c6",
   "metadata": {},
   "source": [
    "Labeled all emails in the parquet file, which i could only download back a csv, so now we'll bring it back and rename it."
   ]
  },
  {
   "cell_type": "code",
   "execution_count": 69,
   "id": "c27f99b2",
   "metadata": {},
   "outputs": [],
   "source": [
    "df = pd.read_csv(\"../data/processed/Labeled_emails.csv\")\n",
    "df.to_parquet(\"../data/processed/train_labeled_0.parquet\", engine='pyarrow')"
   ]
  },
  {
   "cell_type": "code",
   "execution_count": 73,
   "id": "765f5db6",
   "metadata": {},
   "outputs": [
    {
     "data": {
      "text/html": [
       "<div>\n",
       "<style scoped>\n",
       "    .dataframe tbody tr th:only-of-type {\n",
       "        vertical-align: middle;\n",
       "    }\n",
       "\n",
       "    .dataframe tbody tr th {\n",
       "        vertical-align: top;\n",
       "    }\n",
       "\n",
       "    .dataframe thead th {\n",
       "        text-align: right;\n",
       "    }\n",
       "</style>\n",
       "<table border=\"1\" class=\"dataframe\">\n",
       "  <thead>\n",
       "    <tr style=\"text-align: right;\">\n",
       "      <th></th>\n",
       "      <th>from</th>\n",
       "      <th>to</th>\n",
       "      <th>cc</th>\n",
       "      <th>bcc</th>\n",
       "      <th>subject</th>\n",
       "      <th>date</th>\n",
       "      <th>msg_id</th>\n",
       "      <th>clean_body</th>\n",
       "      <th>has_other_content</th>\n",
       "      <th>is_forwarded</th>\n",
       "      <th>label</th>\n",
       "    </tr>\n",
       "  </thead>\n",
       "  <tbody>\n",
       "    <tr>\n",
       "      <th>448549</th>\n",
       "      <td>kayne.coulter@enron.com</td>\n",
       "      <td>jay.wills@enron.com, cyril.price@enron.com, john.kinser@enron.com, rudy.acevedo@enron.com, richard.hrabal@enron.com, juan.hernandez@enron.com, greg.trefz@enron.com, miguel.garcia@enron.com, russell.ballato@enron.com, joe.stepenovitch@enron.com, joe.errigo@enron.com, doug.miller@enron.com, larry.campbell@enron.com, keller.mayeaux@enron.com, chad.starnes@enron.com, dean.laurent@enron.com, don.baughman@enron.com, lawrence.clayton@enron.com, christopher.watts@enron.com, steve.olinde@enron.com, larry.jester@enron.com</td>\n",
       "      <td>None</td>\n",
       "      <td>None</td>\n",
       "      <td>alternate location for nyiso schedules</td>\n",
       "      <td>2001-02-13T07:29:00-05:00</td>\n",
       "      <td>&lt;19602093.1075851837161.JavaMail.evans@thyme&gt;</td>\n",
       "      <td>None</td>\n",
       "      <td>False</td>\n",
       "      <td>True</td>\n",
       "      <td>fwd_chain</td>\n",
       "    </tr>\n",
       "    <tr>\n",
       "      <th>306937</th>\n",
       "      <td>kay.mann@enron.com</td>\n",
       "      <td>christina.valdez@enron.com</td>\n",
       "      <td>None</td>\n",
       "      <td>None</td>\n",
       "      <td>dick's aloha</td>\n",
       "      <td>2001-02-20T14:17:00-05:00</td>\n",
       "      <td>&lt;9135302.1075845816031.JavaMail.evans@thyme&gt;</td>\n",
       "      <td>hey there, i'm going to try very hard to make it to dick's farewell party. who did the invitations? it is so clever. kay</td>\n",
       "      <td>False</td>\n",
       "      <td>False</td>\n",
       "      <td>purely_personal</td>\n",
       "    </tr>\n",
       "    <tr>\n",
       "      <th>402914</th>\n",
       "      <td>susan.scott@enron.com</td>\n",
       "      <td>monique.sanchez@enron.com</td>\n",
       "      <td>None</td>\n",
       "      <td>None</td>\n",
       "      <td>re: howdy</td>\n",
       "      <td>2000-10-27T13:37:00-04:00</td>\n",
       "      <td>&lt;261394.1075846801224.JavaMail.evans@thyme&gt;</td>\n",
       "      <td>no need to apologize for keeping me out wednesday night, it was probably more a case of me keeping myself out (i have been known to do that on occasion). i'm sorry i didn't return your call yesterday, but i had a pretty crazy day here and that mixed with me only running on about two cylinders effectively cut me off from the outside world. as for being upset about anything, don't worry i'm not. you know me well enough to know that my actions are my own. i'm not sure if i'm going to stay in austin saturday night or not, but in case i do my cell # is 281-844-0866. susan i'll see you at purvi's happy hour if you end up going.</td>\n",
       "      <td>False</td>\n",
       "      <td>False</td>\n",
       "      <td>purely_personal</td>\n",
       "    </tr>\n",
       "    <tr>\n",
       "      <th>469118</th>\n",
       "      <td>dhudanish@brobeck.com</td>\n",
       "      <td>legal &lt;.taylor@enron.com&gt;</td>\n",
       "      <td>None</td>\n",
       "      <td>None</td>\n",
       "      <td>None</td>\n",
       "      <td>2001-10-26T00:12:37-04:00</td>\n",
       "      <td>&lt;23252628.1075861969791.JavaMail.evans@thyme&gt;</td>\n",
       "      <td>mark, i am sure you are overwhelmed on other projects, but i wanted to make sure that you had received the attached. i have some comments / questions on the form of electronic trading agreement you sent me. no rush, just call me at your convenience. i hope you are well. nobel started this week -- a great excuse to go out for a nice lunch! regards, david original enron tou.doc ( microsoft word document ) revised enron terms of use.doc ( microsoft word document ) redline.doc ( word document ) &lt; &gt; &lt; &gt; &lt; &gt; ======================================================= this email message is for the sole use of the intended recipient(s) and may contain confidential and privileged information. any unauthorized review, use, disclosure or distribution is prohibited. if you are not the intended recipient, please contact the sender by reply email and destroy all copies of the original message. to reply to our email administrator directly, send an email to postmaster@brobeck.com brobeck phleger &amp; harrison llp http://www.brobeck.com - original enron tou.doc - revised enron terms of use.doc - redline.doc</td>\n",
       "      <td>False</td>\n",
       "      <td>False</td>\n",
       "      <td>action_required</td>\n",
       "    </tr>\n",
       "    <tr>\n",
       "      <th>369161</th>\n",
       "      <td>benjamin.rogers@enron.com</td>\n",
       "      <td>dee.madole@enron.com</td>\n",
       "      <td>None</td>\n",
       "      <td>None</td>\n",
       "      <td>None</td>\n",
       "      <td>2000-03-29T20:30:00-05:00</td>\n",
       "      <td>&lt;18633992.1075857161446.JavaMail.evans@thyme&gt;</td>\n",
       "      <td>here is a presentation that i need by 11:00am thursday. the presentation is almost complete, but if you can clean it up that would be great. i will need 8 coler copies and bound. please give me a call before you have someone run the copies, because we may have some early morning changes. thanks ben</td>\n",
       "      <td>False</td>\n",
       "      <td>False</td>\n",
       "      <td>action_required</td>\n",
       "    </tr>\n",
       "  </tbody>\n",
       "</table>\n",
       "</div>"
      ],
      "text/plain": [
       "                             from  \\\n",
       "448549    kayne.coulter@enron.com   \n",
       "306937         kay.mann@enron.com   \n",
       "402914      susan.scott@enron.com   \n",
       "469118      dhudanish@brobeck.com   \n",
       "369161  benjamin.rogers@enron.com   \n",
       "\n",
       "                                                                                                                                                                                                                                                                                                                                                                                                                                                                                                                                           to  \\\n",
       "448549  jay.wills@enron.com, cyril.price@enron.com, john.kinser@enron.com, rudy.acevedo@enron.com, richard.hrabal@enron.com, juan.hernandez@enron.com, greg.trefz@enron.com, miguel.garcia@enron.com, russell.ballato@enron.com, joe.stepenovitch@enron.com, joe.errigo@enron.com, doug.miller@enron.com, larry.campbell@enron.com, keller.mayeaux@enron.com, chad.starnes@enron.com, dean.laurent@enron.com, don.baughman@enron.com, lawrence.clayton@enron.com, christopher.watts@enron.com, steve.olinde@enron.com, larry.jester@enron.com   \n",
       "306937                                                                                                                                                                                                                                                                                                                                                                                                                                                                                                             christina.valdez@enron.com   \n",
       "402914                                                                                                                                                                                                                                                                                                                                                                                                                                                                                                              monique.sanchez@enron.com   \n",
       "469118                                                                                                                                                                                                                                                                                                                                                                                                                                                                                                              legal <.taylor@enron.com>   \n",
       "369161                                                                                                                                                                                                                                                                                                                                                                                                                                                                                                                   dee.madole@enron.com   \n",
       "\n",
       "          cc   bcc                                 subject  \\\n",
       "448549  None  None  alternate location for nyiso schedules   \n",
       "306937  None  None                            dick's aloha   \n",
       "402914  None  None                               re: howdy   \n",
       "469118  None  None                                    None   \n",
       "369161  None  None                                    None   \n",
       "\n",
       "                             date  \\\n",
       "448549  2001-02-13T07:29:00-05:00   \n",
       "306937  2001-02-20T14:17:00-05:00   \n",
       "402914  2000-10-27T13:37:00-04:00   \n",
       "469118  2001-10-26T00:12:37-04:00   \n",
       "369161  2000-03-29T20:30:00-05:00   \n",
       "\n",
       "                                               msg_id  \\\n",
       "448549  <19602093.1075851837161.JavaMail.evans@thyme>   \n",
       "306937   <9135302.1075845816031.JavaMail.evans@thyme>   \n",
       "402914    <261394.1075846801224.JavaMail.evans@thyme>   \n",
       "469118  <23252628.1075861969791.JavaMail.evans@thyme>   \n",
       "369161  <18633992.1075857161446.JavaMail.evans@thyme>   \n",
       "\n",
       "                                                                                                                                                                                                                                                                                                                                                                                                                                                                                                                                                                                                                                                                                                                                                                                                                                                                                                                                                                                                                                                                                                                                          clean_body  \\\n",
       "448549                                                                                                                                                                                                                                                                                                                                                                                                                                                                                                                                                                                                                                                                                                                                                                                                                                                                                                                                                                                                                                                                                                                                          None   \n",
       "306937                                                                                                                                                                                                                                                                                                                                                                                                                                                                                                                                                                                                                                                                                                                                                                                                                                                                                                                                                                                                                      hey there, i'm going to try very hard to make it to dick's farewell party. who did the invitations? it is so clever. kay   \n",
       "402914                                                                                                                                                                                                                                                                                                                                                                                                                                                                                         no need to apologize for keeping me out wednesday night, it was probably more a case of me keeping myself out (i have been known to do that on occasion). i'm sorry i didn't return your call yesterday, but i had a pretty crazy day here and that mixed with me only running on about two cylinders effectively cut me off from the outside world. as for being upset about anything, don't worry i'm not. you know me well enough to know that my actions are my own. i'm not sure if i'm going to stay in austin saturday night or not, but in case i do my cell # is 281-844-0866. susan i'll see you at purvi's happy hour if you end up going.   \n",
       "469118  mark, i am sure you are overwhelmed on other projects, but i wanted to make sure that you had received the attached. i have some comments / questions on the form of electronic trading agreement you sent me. no rush, just call me at your convenience. i hope you are well. nobel started this week -- a great excuse to go out for a nice lunch! regards, david original enron tou.doc ( microsoft word document ) revised enron terms of use.doc ( microsoft word document ) redline.doc ( word document ) < > < > < > ======================================================= this email message is for the sole use of the intended recipient(s) and may contain confidential and privileged information. any unauthorized review, use, disclosure or distribution is prohibited. if you are not the intended recipient, please contact the sender by reply email and destroy all copies of the original message. to reply to our email administrator directly, send an email to postmaster@brobeck.com brobeck phleger & harrison llp http://www.brobeck.com - original enron tou.doc - revised enron terms of use.doc - redline.doc   \n",
       "369161                                                                                                                                                                                                                                                                                                                                                                                                                                                                                                                                                                                                                                                                                                                                                                                                                                   here is a presentation that i need by 11:00am thursday. the presentation is almost complete, but if you can clean it up that would be great. i will need 8 coler copies and bound. please give me a call before you have someone run the copies, because we may have some early morning changes. thanks ben   \n",
       "\n",
       "       has_other_content is_forwarded            label  \n",
       "448549             False         True        fwd_chain  \n",
       "306937             False        False  purely_personal  \n",
       "402914             False        False  purely_personal  \n",
       "469118             False        False  action_required  \n",
       "369161             False        False  action_required  "
      ]
     },
     "execution_count": 73,
     "metadata": {},
     "output_type": "execute_result"
    }
   ],
   "source": [
    "train_labeled_0_df = pd.read_parquet(\"../data/processed/train_labeled_0.parquet\", engine='pyarrow')\n",
    "train_labeled_0_df_modified = train_labeled_0_df.drop(columns=[\"Unnamed: 0\", \"index\", \"text\"], errors='ignore')\n",
    "train_labeled_0_df_modified.set_index(\"__index_level_0__\", inplace=True)\n",
    "train_labeled_0_df_modified.index.name = None\n",
    "train_labeled_0_df_modified.head()"
   ]
  },
  {
   "cell_type": "code",
   "execution_count": 75,
   "id": "8546acfa",
   "metadata": {},
   "outputs": [],
   "source": [
    "train_labeled_0_df_modified.to_parquet(\"../data/processed/train_labeled_0_modified.parquet\", engine='pyarrow')"
   ]
  },
  {
   "cell_type": "markdown",
   "id": "284ffb6a",
   "metadata": {},
   "source": [
    "Now we delete the uneeded files and we train! Renamed this last modified file to \"train_labeled_813\" for its initial size."
   ]
  }
 ],
 "metadata": {
  "kernelspec": {
   "display_name": ".venv",
   "language": "python",
   "name": "python3"
  },
  "language_info": {
   "codemirror_mode": {
    "name": "ipython",
    "version": 3
   },
   "file_extension": ".py",
   "mimetype": "text/x-python",
   "name": "python",
   "nbconvert_exporter": "python",
   "pygments_lexer": "ipython3",
   "version": "3.13.3"
  }
 },
 "nbformat": 4,
 "nbformat_minor": 5
}
