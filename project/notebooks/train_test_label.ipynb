{
 "cells": [
  {
   "cell_type": "code",
   "execution_count": 2,
   "id": "dc881f45",
   "metadata": {},
   "outputs": [],
   "source": [
    "import pandas as pd\n",
    "import duckdb, pathlib"
   ]
  },
  {
   "cell_type": "code",
   "execution_count": 3,
   "id": "eef486ff",
   "metadata": {},
   "outputs": [],
   "source": [
    "con = duckdb.connect(\"../data/processed/enron.duckdb\")"
   ]
  },
  {
   "cell_type": "code",
   "execution_count": 7,
   "id": "44f4beec",
   "metadata": {},
   "outputs": [
    {
     "name": "stdout",
     "output_type": "stream",
     "text": [
      "     name\n",
      "0  parsed\n"
     ]
    }
   ],
   "source": [
    "# List all tables in the DuckDB database to find the correct table name\n",
    "print(con.execute(\"SHOW TABLES\").fetchdf())"
   ]
  },
  {
   "cell_type": "code",
   "execution_count": 11,
   "id": "2a74a41e",
   "metadata": {},
   "outputs": [
    {
     "data": {
      "text/plain": [
       "<duckdb.duckdb.DuckDBPyConnection at 0x114506b30>"
      ]
     },
     "execution_count": 11,
     "metadata": {},
     "output_type": "execute_result"
    }
   ],
   "source": [
    "con.execute(\"\"\"\n",
    "COPY (SELECT * FROM parsed) TO '../data/processed/cleaned_emails.parquet' (FORMAT PARQUET);\n",
    "\"\"\")\n"
   ]
  },
  {
   "cell_type": "code",
   "execution_count": 16,
   "id": "0502b1d0",
   "metadata": {},
   "outputs": [
    {
     "name": "stdout",
     "output_type": "stream",
     "text": [
      "                      from                       to cc bcc    subject  \\\n",
      "0  phillip.allen@enron.com     tim.belden@enron.com                     \n",
      "1  phillip.allen@enron.com  john.lavorato@enron.com               Re:   \n",
      "2  phillip.allen@enron.com   leah.arsdall@enron.com          Re: test   \n",
      "3  phillip.allen@enron.com    randall.gay@enron.com                     \n",
      "4  phillip.allen@enron.com     greg.piper@enron.com         Re: Hello   \n",
      "\n",
      "                       date                                         msg_id  \\\n",
      "0 2001-05-14 19:39:00-04:00  <18782981.1075855378110.JavaMail.evans@thyme>   \n",
      "1 2001-05-04 16:51:00-04:00  <15464986.1075855378456.JavaMail.evans@thyme>   \n",
      "2 2000-10-18 06:00:00-04:00  <24216240.1075855687451.JavaMail.evans@thyme>   \n",
      "3 2000-10-23 09:13:00-04:00  <13505866.1075863688222.JavaMail.evans@thyme>   \n",
      "4 2000-08-31 08:07:00-04:00  <30922949.1075863688243.JavaMail.evans@thyme>   \n",
      "\n",
      "                                          clean_body  has_other_content  \\\n",
      "0                               Here is our forecast              False   \n",
      "1  Traveling to have a business meeting takes the...              False   \n",
      "2                      test successful. way to go!!!              False   \n",
      "3  Randy, Can you send me a schedule of the salar...              False   \n",
      "4                  Let's shoot for Tuesday at 11:45.              False   \n",
      "\n",
      "   is_forwarded  \n",
      "0         False  \n",
      "1         False  \n",
      "2         False  \n",
      "3         False  \n",
      "4         False  \n"
     ]
    }
   ],
   "source": [
    "df = con.table(\"parsed\").fetchdf()\n",
    "print(df.head())"
   ]
  },
  {
   "cell_type": "code",
   "execution_count": 15,
   "id": "1e660c59",
   "metadata": {},
   "outputs": [
    {
     "name": "stdout",
     "output_type": "stream",
     "text": [
      "                      from                       to cc bcc    subject  \\\n",
      "0  phillip.allen@enron.com     tim.belden@enron.com                     \n",
      "1  phillip.allen@enron.com  john.lavorato@enron.com               Re:   \n",
      "2  phillip.allen@enron.com   leah.arsdall@enron.com          Re: test   \n",
      "3  phillip.allen@enron.com    randall.gay@enron.com                     \n",
      "4  phillip.allen@enron.com     greg.piper@enron.com         Re: Hello   \n",
      "\n",
      "                       date                                         msg_id  \\\n",
      "0 2001-05-14 23:39:00+00:00  <18782981.1075855378110.JavaMail.evans@thyme>   \n",
      "1 2001-05-04 20:51:00+00:00  <15464986.1075855378456.JavaMail.evans@thyme>   \n",
      "2 2000-10-18 10:00:00+00:00  <24216240.1075855687451.JavaMail.evans@thyme>   \n",
      "3 2000-10-23 13:13:00+00:00  <13505866.1075863688222.JavaMail.evans@thyme>   \n",
      "4 2000-08-31 12:07:00+00:00  <30922949.1075863688243.JavaMail.evans@thyme>   \n",
      "\n",
      "                                          clean_body  has_other_content  \\\n",
      "0                               Here is our forecast              False   \n",
      "1  Traveling to have a business meeting takes the...              False   \n",
      "2                      test successful. way to go!!!              False   \n",
      "3  Randy, Can you send me a schedule of the salar...              False   \n",
      "4                  Let's shoot for Tuesday at 11:45.              False   \n",
      "\n",
      "   is_forwarded  \n",
      "0         False  \n",
      "1         False  \n",
      "2         False  \n",
      "3         False  \n",
      "4         False  \n"
     ]
    }
   ],
   "source": [
    "# df = pd.read_parquet(\"../data/processed/cleaned_emails.parquet\")\n",
    "# print(df.head())"
   ]
  },
  {
   "cell_type": "code",
   "execution_count": 18,
   "id": "b943bd15",
   "metadata": {},
   "outputs": [],
   "source": [
    "from sklearn.model_selection import train_test_split\n",
    "train, test = train_test_split(df, test_size=0.2, random_state=42, stratify=None)\n",
    "train.to_parquet(\"../data/processed/train_unlabeled.parquet\")\n",
    "test.to_parquet(\"../data/processed/test_unlabeled.parquet\")\n"
   ]
  },
  {
   "cell_type": "markdown",
   "id": "2a1ac08f",
   "metadata": {},
   "source": [
    "Now, we still need a small sample of, say, 800 emails that I will manually label and will train the baseline model in. Then will train the model in the remaining emails. I will manually label those emails that the model is the least confident in and i will add them to the training_labeled and remove them from the training_unlabeled, and repeat a couple times (perhaps 2-3)."
   ]
  },
  {
   "cell_type": "code",
   "execution_count": 35,
   "id": "35faaa96",
   "metadata": {},
   "outputs": [],
   "source": [
    "train_unlabeled_0, train_to_label = train_test_split(train, test_size=0.002, random_state=42, stratify=None)\n",
    "train_unlabeled_0.to_parquet(\"../data/processed/train_unlabeled_0.parquet\") # has ~400k - 800 emails\n",
    "train_to_label.to_parquet(\"../data/processed/train_to_label.parquet\") # has 800 emails initially"
   ]
  },
  {
   "cell_type": "markdown",
   "id": "f7f04819",
   "metadata": {},
   "source": [
    "Confirming the split correctly happened."
   ]
  },
  {
   "cell_type": "code",
   "execution_count": 39,
   "id": "93bf6e77",
   "metadata": {},
   "outputs": [],
   "source": [
    "train_df = pd.read_parquet(\"../data/processed/train_unlabeled.parquet\", engine='pyarrow')\n",
    "train_un0_df = pd.read_parquet(\"../data/processed/train_unlabeled_0.parquet\", engine='pyarrow')\n",
    "train_tol_df = pd.read_parquet(\"../data/processed/train_to_label.parquet\", engine='pyarrow')"
   ]
  },
  {
   "cell_type": "code",
   "execution_count": 40,
   "id": "4abc3a9b",
   "metadata": {},
   "outputs": [
    {
     "name": "stdout",
     "output_type": "stream",
     "text": [
      "<class 'pandas.core.frame.DataFrame'>\n",
      "Index: 406342 entries, 421447 to 121958\n",
      "Data columns (total 10 columns):\n",
      " #   Column             Non-Null Count   Dtype                           \n",
      "---  ------             --------------   -----                           \n",
      " 0   from               406342 non-null  object                          \n",
      " 1   to                 406342 non-null  object                          \n",
      " 2   cc                 406342 non-null  object                          \n",
      " 3   bcc                406342 non-null  object                          \n",
      " 4   subject            406342 non-null  object                          \n",
      " 5   date               406342 non-null  datetime64[us, America/New_York]\n",
      " 6   msg_id             406342 non-null  object                          \n",
      " 7   clean_body         406342 non-null  object                          \n",
      " 8   has_other_content  406342 non-null  bool                            \n",
      " 9   is_forwarded       406342 non-null  bool                            \n",
      "dtypes: bool(2), datetime64[us, America/New_York](1), object(7)\n",
      "memory usage: 28.7+ MB\n"
     ]
    }
   ],
   "source": [
    "train_df.info()"
   ]
  },
  {
   "cell_type": "code",
   "execution_count": 41,
   "id": "5f9ebbd5",
   "metadata": {},
   "outputs": [
    {
     "name": "stdout",
     "output_type": "stream",
     "text": [
      "<class 'pandas.core.frame.DataFrame'>\n",
      "Index: 405529 entries, 423984 to 243046\n",
      "Data columns (total 10 columns):\n",
      " #   Column             Non-Null Count   Dtype                           \n",
      "---  ------             --------------   -----                           \n",
      " 0   from               405529 non-null  object                          \n",
      " 1   to                 405529 non-null  object                          \n",
      " 2   cc                 405529 non-null  object                          \n",
      " 3   bcc                405529 non-null  object                          \n",
      " 4   subject            405529 non-null  object                          \n",
      " 5   date               405529 non-null  datetime64[us, America/New_York]\n",
      " 6   msg_id             405529 non-null  object                          \n",
      " 7   clean_body         405529 non-null  object                          \n",
      " 8   has_other_content  405529 non-null  bool                            \n",
      " 9   is_forwarded       405529 non-null  bool                            \n",
      "dtypes: bool(2), datetime64[us, America/New_York](1), object(7)\n",
      "memory usage: 28.6+ MB\n"
     ]
    }
   ],
   "source": [
    "train_un0_df.info()"
   ]
  },
  {
   "cell_type": "code",
   "execution_count": 42,
   "id": "4da381f4",
   "metadata": {},
   "outputs": [
    {
     "name": "stdout",
     "output_type": "stream",
     "text": [
      "<class 'pandas.core.frame.DataFrame'>\n",
      "Index: 813 entries, 448549 to 152527\n",
      "Data columns (total 10 columns):\n",
      " #   Column             Non-Null Count  Dtype                           \n",
      "---  ------             --------------  -----                           \n",
      " 0   from               813 non-null    object                          \n",
      " 1   to                 813 non-null    object                          \n",
      " 2   cc                 813 non-null    object                          \n",
      " 3   bcc                813 non-null    object                          \n",
      " 4   subject            813 non-null    object                          \n",
      " 5   date               813 non-null    datetime64[us, America/New_York]\n",
      " 6   msg_id             813 non-null    object                          \n",
      " 7   clean_body         813 non-null    object                          \n",
      " 8   has_other_content  813 non-null    bool                            \n",
      " 9   is_forwarded       813 non-null    bool                            \n",
      "dtypes: bool(2), datetime64[us, America/New_York](1), object(7)\n",
      "memory usage: 58.8+ KB\n"
     ]
    }
   ],
   "source": [
    "train_tol_df.info()"
   ]
  },
  {
   "cell_type": "markdown",
   "id": "053fe7e0",
   "metadata": {},
   "source": [
    "Now I will manually label the 800 emails."
   ]
  },
  {
   "cell_type": "code",
   "execution_count": 67,
   "id": "edb71a47",
   "metadata": {},
   "outputs": [
    {
     "data": {
      "text/html": [
       "<div>\n",
       "<style scoped>\n",
       "    .dataframe tbody tr th:only-of-type {\n",
       "        vertical-align: middle;\n",
       "    }\n",
       "\n",
       "    .dataframe tbody tr th {\n",
       "        vertical-align: top;\n",
       "    }\n",
       "\n",
       "    .dataframe thead th {\n",
       "        text-align: right;\n",
       "    }\n",
       "</style>\n",
       "<table border=\"1\" class=\"dataframe\">\n",
       "  <thead>\n",
       "    <tr style=\"text-align: right;\">\n",
       "      <th></th>\n",
       "      <th>from</th>\n",
       "      <th>to</th>\n",
       "      <th>cc</th>\n",
       "      <th>bcc</th>\n",
       "      <th>subject</th>\n",
       "      <th>date</th>\n",
       "      <th>msg_id</th>\n",
       "      <th>clean_body</th>\n",
       "      <th>has_other_content</th>\n",
       "      <th>is_forwarded</th>\n",
       "      <th>label</th>\n",
       "    </tr>\n",
       "  </thead>\n",
       "  <tbody>\n",
       "    <tr>\n",
       "      <th>448549</th>\n",
       "      <td>kayne.coulter@enron.com</td>\n",
       "      <td>jay.wills@enron.com, cyril.price@enron.com, john.kinser@enron.com, rudy.acevedo@enron.com, richard.hrabal@enron.com, juan.hernandez@enron.com, greg.trefz@enron.com, miguel.garcia@enron.com, russell.ballato@enron.com, joe.stepenovitch@enron.com, joe.errigo@enron.com, doug.miller@enron.com, larry.campbell@enron.com, keller.mayeaux@enron.com, chad.starnes@enron.com, dean.laurent@enron.com, don.baughman@enron.com, lawrence.clayton@enron.com, christopher.watts@enron.com, steve.olinde@enron.com, larry.jester@enron.com</td>\n",
       "      <td></td>\n",
       "      <td></td>\n",
       "      <td>Alternate Location for NYISO Schedules</td>\n",
       "      <td>2001-02-13 02:29:00-05:00</td>\n",
       "      <td>&lt;19602093.1075851837161.JavaMail.evans@thyme&gt;</td>\n",
       "      <td></td>\n",
       "      <td>False</td>\n",
       "      <td>True</td>\n",
       "      <td>fwd_chain</td>\n",
       "    </tr>\n",
       "    <tr>\n",
       "      <th>306937</th>\n",
       "      <td>kay.mann@enron.com</td>\n",
       "      <td>christina.valdez@enron.com</td>\n",
       "      <td></td>\n",
       "      <td></td>\n",
       "      <td>Dick's aloha</td>\n",
       "      <td>2001-02-20 09:17:00-05:00</td>\n",
       "      <td>&lt;9135302.1075845816031.JavaMail.evans@thyme&gt;</td>\n",
       "      <td>Hey there, I'm going to try very hard to make it to Dick's farewell party. Who did the invitations? It is so clever. Kay</td>\n",
       "      <td>False</td>\n",
       "      <td>False</td>\n",
       "      <td></td>\n",
       "    </tr>\n",
       "  </tbody>\n",
       "</table>\n",
       "</div>"
      ],
      "text/plain": [
       "                           from  \\\n",
       "448549  kayne.coulter@enron.com   \n",
       "306937       kay.mann@enron.com   \n",
       "\n",
       "                                                                                                                                                                                                                                                                                                                                                                                                                                                                                                                                           to  \\\n",
       "448549  jay.wills@enron.com, cyril.price@enron.com, john.kinser@enron.com, rudy.acevedo@enron.com, richard.hrabal@enron.com, juan.hernandez@enron.com, greg.trefz@enron.com, miguel.garcia@enron.com, russell.ballato@enron.com, joe.stepenovitch@enron.com, joe.errigo@enron.com, doug.miller@enron.com, larry.campbell@enron.com, keller.mayeaux@enron.com, chad.starnes@enron.com, dean.laurent@enron.com, don.baughman@enron.com, lawrence.clayton@enron.com, christopher.watts@enron.com, steve.olinde@enron.com, larry.jester@enron.com   \n",
       "306937                                                                                                                                                                                                                                                                                                                                                                                                                                                                                                             christina.valdez@enron.com   \n",
       "\n",
       "       cc bcc                                 subject  \\\n",
       "448549         Alternate Location for NYISO Schedules   \n",
       "306937                                   Dick's aloha   \n",
       "\n",
       "                            date  \\\n",
       "448549 2001-02-13 02:29:00-05:00   \n",
       "306937 2001-02-20 09:17:00-05:00   \n",
       "\n",
       "                                               msg_id  \\\n",
       "448549  <19602093.1075851837161.JavaMail.evans@thyme>   \n",
       "306937   <9135302.1075845816031.JavaMail.evans@thyme>   \n",
       "\n",
       "                                                                                                                      clean_body  \\\n",
       "448549                                                                                                                             \n",
       "306937  Hey there, I'm going to try very hard to make it to Dick's farewell party. Who did the invitations? It is so clever. Kay   \n",
       "\n",
       "       has_other_content is_forwarded      label  \n",
       "448549             False         True  fwd_chain  \n",
       "306937             False        False             "
      ]
     },
     "execution_count": 67,
     "metadata": {},
     "output_type": "execute_result"
    }
   ],
   "source": [
    "pd.set_option('display.max_colwidth', None)\n",
    "train_tol_df.head(2)"
   ]
  },
  {
   "cell_type": "code",
   "execution_count": 44,
   "id": "ab4868ff",
   "metadata": {},
   "outputs": [],
   "source": [
    "train_tol_df[\"label\"] = \"\""
   ]
  },
  {
   "cell_type": "code",
   "execution_count": null,
   "id": "d1a4b5a3",
   "metadata": {},
   "outputs": [],
   "source": [
    "train_tol_df.at[448549, \"label\"] = \"logistics\"\n",
    "train_tol_df.at[306937, \"label\"] = \"purely_personal\"\n",
    "train_tol_df.at[402914, \"label\"] = \"purely_personal\"\n",
    "train_tol_df.at[469118, \"label\"] = \"company_business\"\n",
    "train_tol_df.at[369161, \"label\"] = \"company_business\"\n",
    "train_tol_df.at[32576, \"label\"] = \"fwd_chain\"\n"
   ]
  },
  {
   "cell_type": "code",
   "execution_count": 65,
   "id": "0b96b32e",
   "metadata": {},
   "outputs": [],
   "source": [
    "train_tol_df.loc[train_tol_df[\"is_forwarded\"] == True, \"label\"] = \"fwd_chain\""
   ]
  },
  {
   "cell_type": "code",
   "execution_count": 68,
   "id": "10f486bd",
   "metadata": {},
   "outputs": [],
   "source": [
    "train_tol_df.to_parquet(\"../data/processed/train_to_label_fwd.parquet\", engine='pyarrow')"
   ]
  },
  {
   "cell_type": "markdown",
   "id": "e3d372c6",
   "metadata": {},
   "source": [
    "Labeled all emails in the parquet file, which i could only download back a csv, so now we'll bring it back and rename it."
   ]
  },
  {
   "cell_type": "code",
   "execution_count": 87,
   "id": "c27f99b2",
   "metadata": {},
   "outputs": [],
   "source": [
    "df = pd.read_csv(\"../data/processed/Labeled_Emails.csv\")\n",
    "df.to_parquet(\"../data/processed/train_labeled_813.parquet\", engine='pyarrow')"
   ]
  },
  {
   "cell_type": "code",
   "execution_count": 88,
   "id": "765f5db6",
   "metadata": {},
   "outputs": [
    {
     "data": {
      "text/html": [
       "<div>\n",
       "<style scoped>\n",
       "    .dataframe tbody tr th:only-of-type {\n",
       "        vertical-align: middle;\n",
       "    }\n",
       "\n",
       "    .dataframe tbody tr th {\n",
       "        vertical-align: top;\n",
       "    }\n",
       "\n",
       "    .dataframe thead th {\n",
       "        text-align: right;\n",
       "    }\n",
       "</style>\n",
       "<table border=\"1\" class=\"dataframe\">\n",
       "  <thead>\n",
       "    <tr style=\"text-align: right;\">\n",
       "      <th></th>\n",
       "      <th>from</th>\n",
       "      <th>to</th>\n",
       "      <th>cc</th>\n",
       "      <th>bcc</th>\n",
       "      <th>subject</th>\n",
       "      <th>date</th>\n",
       "      <th>msg_id</th>\n",
       "      <th>clean_body</th>\n",
       "      <th>has_other_content</th>\n",
       "      <th>is_forwarded</th>\n",
       "      <th>label</th>\n",
       "    </tr>\n",
       "  </thead>\n",
       "  <tbody>\n",
       "    <tr>\n",
       "      <th>448549</th>\n",
       "      <td>kayne.coulter@enron.com</td>\n",
       "      <td>jay.wills@enron.com, cyril.price@enron.com, john.kinser@enron.com, rudy.acevedo@enron.com, richard.hrabal@enron.com, juan.hernandez@enron.com, greg.trefz@enron.com, miguel.garcia@enron.com, russell.ballato@enron.com, joe.stepenovitch@enron.com, joe.errigo@enron.com, doug.miller@enron.com, larry.campbell@enron.com, keller.mayeaux@enron.com, chad.starnes@enron.com, dean.laurent@enron.com, don.baughman@enron.com, lawrence.clayton@enron.com, christopher.watts@enron.com, steve.olinde@enron.com, larry.jester@enron.com</td>\n",
       "      <td>None</td>\n",
       "      <td>None</td>\n",
       "      <td>alternate location for nyiso schedules</td>\n",
       "      <td>2001-02-13T07:29:00-05:00</td>\n",
       "      <td>&lt;19602093.1075851837161.JavaMail.evans@thyme&gt;</td>\n",
       "      <td>None</td>\n",
       "      <td>False</td>\n",
       "      <td>True</td>\n",
       "      <td>fwd_chain</td>\n",
       "    </tr>\n",
       "    <tr>\n",
       "      <th>306937</th>\n",
       "      <td>kay.mann@enron.com</td>\n",
       "      <td>christina.valdez@enron.com</td>\n",
       "      <td>None</td>\n",
       "      <td>None</td>\n",
       "      <td>dick's aloha</td>\n",
       "      <td>2001-02-20T14:17:00-05:00</td>\n",
       "      <td>&lt;9135302.1075845816031.JavaMail.evans@thyme&gt;</td>\n",
       "      <td>hey there, i'm going to try very hard to make it to dick's farewell party. who did the invitations? it is so clever. kay</td>\n",
       "      <td>False</td>\n",
       "      <td>False</td>\n",
       "      <td>purely_personal</td>\n",
       "    </tr>\n",
       "    <tr>\n",
       "      <th>402914</th>\n",
       "      <td>susan.scott@enron.com</td>\n",
       "      <td>monique.sanchez@enron.com</td>\n",
       "      <td>None</td>\n",
       "      <td>None</td>\n",
       "      <td>re: howdy</td>\n",
       "      <td>2000-10-27T13:37:00-04:00</td>\n",
       "      <td>&lt;261394.1075846801224.JavaMail.evans@thyme&gt;</td>\n",
       "      <td>no need to apologize for keeping me out wednesday night, it was probably more a case of me keeping myself out (i have been known to do that on occasion). i'm sorry i didn't return your call yesterday, but i had a pretty crazy day here and that mixed with me only running on about two cylinders effectively cut me off from the outside world. as for being upset about anything, don't worry i'm not. you know me well enough to know that my actions are my own. i'm not sure if i'm going to stay in austin saturday night or not, but in case i do my cell # is 281-844-0866. susan i'll see you at purvi's happy hour if you end up going.</td>\n",
       "      <td>False</td>\n",
       "      <td>False</td>\n",
       "      <td>purely_personal</td>\n",
       "    </tr>\n",
       "    <tr>\n",
       "      <th>469118</th>\n",
       "      <td>dhudanish@brobeck.com</td>\n",
       "      <td>legal &lt;.taylor@enron.com&gt;</td>\n",
       "      <td>None</td>\n",
       "      <td>None</td>\n",
       "      <td>None</td>\n",
       "      <td>2001-10-26T00:12:37-04:00</td>\n",
       "      <td>&lt;23252628.1075861969791.JavaMail.evans@thyme&gt;</td>\n",
       "      <td>mark, i am sure you are overwhelmed on other projects, but i wanted to make sure that you had received the attached. i have some comments / questions on the form of electronic trading agreement you sent me. no rush, just call me at your convenience. i hope you are well. nobel started this week -- a great excuse to go out for a nice lunch! regards, david original enron tou.doc ( microsoft word document ) revised enron terms of use.doc ( microsoft word document ) redline.doc ( word document ) &lt; &gt; &lt; &gt; &lt; &gt; ======================================================= this email message is for the sole use of the intended recipient(s) and may contain confidential and privileged information. any unauthorized review, use, disclosure or distribution is prohibited. if you are not the intended recipient, please contact the sender by reply email and destroy all copies of the original message. to reply to our email administrator directly, send an email to postmaster@brobeck.com brobeck phleger &amp; harrison llp http://www.brobeck.com - original enron tou.doc - revised enron terms of use.doc - redline.doc</td>\n",
       "      <td>False</td>\n",
       "      <td>False</td>\n",
       "      <td>action_required</td>\n",
       "    </tr>\n",
       "    <tr>\n",
       "      <th>369161</th>\n",
       "      <td>benjamin.rogers@enron.com</td>\n",
       "      <td>dee.madole@enron.com</td>\n",
       "      <td>None</td>\n",
       "      <td>None</td>\n",
       "      <td>None</td>\n",
       "      <td>2000-03-29T20:30:00-05:00</td>\n",
       "      <td>&lt;18633992.1075857161446.JavaMail.evans@thyme&gt;</td>\n",
       "      <td>here is a presentation that i need by 11:00am thursday. the presentation is almost complete, but if you can clean it up that would be great. i will need 8 coler copies and bound. please give me a call before you have someone run the copies, because we may have some early morning changes. thanks ben</td>\n",
       "      <td>False</td>\n",
       "      <td>False</td>\n",
       "      <td>action_required</td>\n",
       "    </tr>\n",
       "  </tbody>\n",
       "</table>\n",
       "</div>"
      ],
      "text/plain": [
       "                             from  \\\n",
       "448549    kayne.coulter@enron.com   \n",
       "306937         kay.mann@enron.com   \n",
       "402914      susan.scott@enron.com   \n",
       "469118      dhudanish@brobeck.com   \n",
       "369161  benjamin.rogers@enron.com   \n",
       "\n",
       "                                                                                                                                                                                                                                                                                                                                                                                                                                                                                                                                           to  \\\n",
       "448549  jay.wills@enron.com, cyril.price@enron.com, john.kinser@enron.com, rudy.acevedo@enron.com, richard.hrabal@enron.com, juan.hernandez@enron.com, greg.trefz@enron.com, miguel.garcia@enron.com, russell.ballato@enron.com, joe.stepenovitch@enron.com, joe.errigo@enron.com, doug.miller@enron.com, larry.campbell@enron.com, keller.mayeaux@enron.com, chad.starnes@enron.com, dean.laurent@enron.com, don.baughman@enron.com, lawrence.clayton@enron.com, christopher.watts@enron.com, steve.olinde@enron.com, larry.jester@enron.com   \n",
       "306937                                                                                                                                                                                                                                                                                                                                                                                                                                                                                                             christina.valdez@enron.com   \n",
       "402914                                                                                                                                                                                                                                                                                                                                                                                                                                                                                                              monique.sanchez@enron.com   \n",
       "469118                                                                                                                                                                                                                                                                                                                                                                                                                                                                                                              legal <.taylor@enron.com>   \n",
       "369161                                                                                                                                                                                                                                                                                                                                                                                                                                                                                                                   dee.madole@enron.com   \n",
       "\n",
       "          cc   bcc                                 subject  \\\n",
       "448549  None  None  alternate location for nyiso schedules   \n",
       "306937  None  None                            dick's aloha   \n",
       "402914  None  None                               re: howdy   \n",
       "469118  None  None                                    None   \n",
       "369161  None  None                                    None   \n",
       "\n",
       "                             date  \\\n",
       "448549  2001-02-13T07:29:00-05:00   \n",
       "306937  2001-02-20T14:17:00-05:00   \n",
       "402914  2000-10-27T13:37:00-04:00   \n",
       "469118  2001-10-26T00:12:37-04:00   \n",
       "369161  2000-03-29T20:30:00-05:00   \n",
       "\n",
       "                                               msg_id  \\\n",
       "448549  <19602093.1075851837161.JavaMail.evans@thyme>   \n",
       "306937   <9135302.1075845816031.JavaMail.evans@thyme>   \n",
       "402914    <261394.1075846801224.JavaMail.evans@thyme>   \n",
       "469118  <23252628.1075861969791.JavaMail.evans@thyme>   \n",
       "369161  <18633992.1075857161446.JavaMail.evans@thyme>   \n",
       "\n",
       "                                                                                                                                                                                                                                                                                                                                                                                                                                                                                                                                                                                                                                                                                                                                                                                                                                                                                                                                                                                                                                                                                                                                          clean_body  \\\n",
       "448549                                                                                                                                                                                                                                                                                                                                                                                                                                                                                                                                                                                                                                                                                                                                                                                                                                                                                                                                                                                                                                                                                                                                          None   \n",
       "306937                                                                                                                                                                                                                                                                                                                                                                                                                                                                                                                                                                                                                                                                                                                                                                                                                                                                                                                                                                                                                      hey there, i'm going to try very hard to make it to dick's farewell party. who did the invitations? it is so clever. kay   \n",
       "402914                                                                                                                                                                                                                                                                                                                                                                                                                                                                                         no need to apologize for keeping me out wednesday night, it was probably more a case of me keeping myself out (i have been known to do that on occasion). i'm sorry i didn't return your call yesterday, but i had a pretty crazy day here and that mixed with me only running on about two cylinders effectively cut me off from the outside world. as for being upset about anything, don't worry i'm not. you know me well enough to know that my actions are my own. i'm not sure if i'm going to stay in austin saturday night or not, but in case i do my cell # is 281-844-0866. susan i'll see you at purvi's happy hour if you end up going.   \n",
       "469118  mark, i am sure you are overwhelmed on other projects, but i wanted to make sure that you had received the attached. i have some comments / questions on the form of electronic trading agreement you sent me. no rush, just call me at your convenience. i hope you are well. nobel started this week -- a great excuse to go out for a nice lunch! regards, david original enron tou.doc ( microsoft word document ) revised enron terms of use.doc ( microsoft word document ) redline.doc ( word document ) < > < > < > ======================================================= this email message is for the sole use of the intended recipient(s) and may contain confidential and privileged information. any unauthorized review, use, disclosure or distribution is prohibited. if you are not the intended recipient, please contact the sender by reply email and destroy all copies of the original message. to reply to our email administrator directly, send an email to postmaster@brobeck.com brobeck phleger & harrison llp http://www.brobeck.com - original enron tou.doc - revised enron terms of use.doc - redline.doc   \n",
       "369161                                                                                                                                                                                                                                                                                                                                                                                                                                                                                                                                                                                                                                                                                                                                                                                                                                   here is a presentation that i need by 11:00am thursday. the presentation is almost complete, but if you can clean it up that would be great. i will need 8 coler copies and bound. please give me a call before you have someone run the copies, because we may have some early morning changes. thanks ben   \n",
       "\n",
       "       has_other_content is_forwarded            label  \n",
       "448549             False         True        fwd_chain  \n",
       "306937             False        False  purely_personal  \n",
       "402914             False        False  purely_personal  \n",
       "469118             False        False  action_required  \n",
       "369161             False        False  action_required  "
      ]
     },
     "execution_count": 88,
     "metadata": {},
     "output_type": "execute_result"
    }
   ],
   "source": [
    "train_labeled_0_df = pd.read_parquet(\"../data/processed/train_labeled_813.parquet\", engine='pyarrow')\n",
    "train_labeled_0_df_modified = train_labeled_0_df.drop(columns=[\"Unnamed: 0\", \"index\", \"text\"], errors='ignore')\n",
    "train_labeled_0_df_modified.set_index(\"__index_level_0__\", inplace=True)\n",
    "train_labeled_0_df_modified.index.name = None\n",
    "train_labeled_0_df_modified.head()"
   ]
  },
  {
   "cell_type": "code",
   "execution_count": 89,
   "id": "8546acfa",
   "metadata": {},
   "outputs": [],
   "source": [
    "train_labeled_0_df_modified.to_parquet(\"../data/processed/train_labeled_813.parquet\", engine='pyarrow')"
   ]
  },
  {
   "cell_type": "markdown",
   "id": "284ffb6a",
   "metadata": {},
   "source": [
    "Now we delete the un-needed files and we train! Renamed this last modified file to \"train_labeled_813\" for its initial size."
   ]
  },
  {
   "cell_type": "code",
   "execution_count": null,
   "id": "4029b4f0",
   "metadata": {},
   "outputs": [
    {
     "name": "stdout",
     "output_type": "stream",
     "text": [
      "<class 'pandas.core.frame.DataFrame'>\n",
      "Index: 405529 entries, 423984 to 243046\n",
      "Data columns (total 10 columns):\n",
      " #   Column             Non-Null Count   Dtype                           \n",
      "---  ------             --------------   -----                           \n",
      " 0   from               405529 non-null  object                          \n",
      " 1   to                 405529 non-null  object                          \n",
      " 2   cc                 405529 non-null  object                          \n",
      " 3   bcc                405529 non-null  object                          \n",
      " 4   subject            405529 non-null  object                          \n",
      " 5   date               405529 non-null  datetime64[us, America/New_York]\n",
      " 6   msg_id             405529 non-null  object                          \n",
      " 7   clean_body         405529 non-null  object                          \n",
      " 8   has_other_content  405529 non-null  bool                            \n",
      " 9   is_forwarded       405529 non-null  bool                            \n",
      "dtypes: bool(2), datetime64[us, America/New_York](1), object(7)\n",
      "memory usage: 28.6+ MB\n"
     ]
    }
   ],
   "source": [
    "# Taking a look as a sanity check\n",
    "df = pd.read_parquet(\"../data/processed/train_unlabeled_0.parquet\")\n",
    "df.info()"
   ]
  },
  {
   "cell_type": "markdown",
   "id": "b318e6d9",
   "metadata": {},
   "source": [
    "At this point I load the larger dataset (where I will be deleting the batched emails from) and labeled batched emails"
   ]
  },
  {
   "cell_type": "code",
   "execution_count": 182,
   "id": "0e0a6270",
   "metadata": {},
   "outputs": [],
   "source": [
    "full_df = pd.read_parquet(\"../data/processed/train_unlabeled_2.parquet\", engine='pyarrow')\n",
    "labeled_batch = pd.read_csv(\"../data/processed/Batch_Renamed_Emails_2.csv\")"
   ]
  },
  {
   "cell_type": "code",
   "execution_count": 107,
   "id": "21697f6d",
   "metadata": {},
   "outputs": [],
   "source": [
    "# full_df.head()"
   ]
  },
  {
   "cell_type": "code",
   "execution_count": 183,
   "id": "799e853b",
   "metadata": {},
   "outputs": [
    {
     "name": "stdout",
     "output_type": "stream",
     "text": [
      "Index(['orig_index', 'from', 'to', 'msg_id', 'cc', 'bcc', 'clean_body',\n",
      "       'subject', 'date', 'has_other_content', 'is_forwarded', 'label'],\n",
      "      dtype='object')\n",
      "<class 'pandas.core.frame.DataFrame'>\n",
      "RangeIndex: 200 entries, 0 to 199\n",
      "Data columns (total 12 columns):\n",
      " #   Column             Non-Null Count  Dtype \n",
      "---  ------             --------------  ----- \n",
      " 0   orig_index         200 non-null    int64 \n",
      " 1   from               200 non-null    object\n",
      " 2   to                 200 non-null    object\n",
      " 3   msg_id             200 non-null    object\n",
      " 4   cc                 6 non-null      object\n",
      " 5   bcc                6 non-null      object\n",
      " 6   clean_body         200 non-null    object\n",
      " 7   subject            200 non-null    object\n",
      " 8   date               200 non-null    object\n",
      " 9   has_other_content  200 non-null    bool  \n",
      " 10  is_forwarded       200 non-null    bool  \n",
      " 11  label              200 non-null    object\n",
      "dtypes: bool(2), int64(1), object(9)\n",
      "memory usage: 16.1+ KB\n"
     ]
    }
   ],
   "source": [
    "# labeled_batch.head()\n",
    "print(labeled_batch.columns)\n",
    "# labeled_batch = labeled_batch.iloc[0:]\n",
    "labeled_batch.info()"
   ]
  },
  {
   "cell_type": "markdown",
   "id": "e6ee9c7c",
   "metadata": {},
   "source": [
    "Then I make the batch email dataset match the larger datasets I started with."
   ]
  },
  {
   "cell_type": "code",
   "execution_count": null,
   "id": "8750ef08",
   "metadata": {},
   "outputs": [
    {
     "data": {
      "text/html": [
       "<div>\n",
       "<style scoped>\n",
       "    .dataframe tbody tr th:only-of-type {\n",
       "        vertical-align: middle;\n",
       "    }\n",
       "\n",
       "    .dataframe tbody tr th {\n",
       "        vertical-align: top;\n",
       "    }\n",
       "\n",
       "    .dataframe thead th {\n",
       "        text-align: right;\n",
       "    }\n",
       "</style>\n",
       "<table border=\"1\" class=\"dataframe\">\n",
       "  <thead>\n",
       "    <tr style=\"text-align: right;\">\n",
       "      <th></th>\n",
       "      <th>from</th>\n",
       "      <th>to</th>\n",
       "      <th>msg_id</th>\n",
       "      <th>cc</th>\n",
       "      <th>bcc</th>\n",
       "      <th>clean_body</th>\n",
       "      <th>subject</th>\n",
       "      <th>date</th>\n",
       "      <th>has_other_content</th>\n",
       "      <th>is_forwarded</th>\n",
       "      <th>label</th>\n",
       "    </tr>\n",
       "  </thead>\n",
       "  <tbody>\n",
       "    <tr>\n",
       "      <th>18350</th>\n",
       "      <td>trimlife.weight.loss-return-11-7-10825134-x3pacl23neeotqbz-274@mta10.optamail.com</td>\n",
       "      <td>don.baughman@enron.com</td>\n",
       "      <td>&lt;20251621.1075840328743.JavaMail.evans@thyme&gt;</td>\n",
       "      <td></td>\n",
       "      <td></td>\n",
       "      <td>You are receiving this email because you asked to be sent special offers through one of the partners of eValueMarketing. eValueMarketing only brings you the best offers on the web. However, if you wish to unsubscribe, please follow the instructions at the bottom of the email. Banners List Lose Weight this New Year with Trimlife Dear Don, Introducing TrimLife, the COMPLETE online weight-loss program! In just 2 days, you'll see measurable results, and in just 10 days you'll lose up to 10 pounds or more. In fact, we're so sure that you'll lose weight that we'll send you a FREE 1 Week Sample to try, if you'll pay $1 towards the shipping. BONUS: To ensure your success we?ve arranged for your own online, personal, licensed weight-loss counselor to work with you every step of the way! If you don't want to get these letters anymore send a blank email logo</td>\n",
       "      <td>Free 1 Week Sample!</td>\n",
       "      <td>2002-01-29 15:00:01-05:00</td>\n",
       "      <td>False</td>\n",
       "      <td>False</td>\n",
       "      <td>newsletter</td>\n",
       "    </tr>\n",
       "    <tr>\n",
       "      <th>503717</th>\n",
       "      <td>bluechipbrands@m-ul.com</td>\n",
       "      <td>jason.wolfe@enron.com</td>\n",
       "      <td>&lt;308892.1075861458224.JavaMail.evans@thyme&gt;</td>\n",
       "      <td></td>\n",
       "      <td></td>\n",
       "      <td>NMG1LA1d You are receiving this email from Blue Chip Brands. If you would prefer not to receive messages of this sort in the future, please see the unsubscribe instructions at the bottom of this email. Jason LOSE 5 - 10 POUNDS ABSOLUTELY FREE in just 7 days! SCIENTIST DISCOVERY TURNS YOUR BODY IN TO A 24 HOUR FAT BURING MACHINE! Trimlife is so excited to be a part of this project that we're giving away a FREE 1 week supply - that's 5 - 10 pounds of weight loss ABSOLUTELY FREE! Why are we doing this? Because Trimlife works. In fact, it works so well we're certain you'll be a happy customer. What have you got to lose. Lose 5 - 10 pounds in just 7 days, ABSOLUTELY FREE. Act now! A slimmer body is waiting for you. Order your FREE 7 day supply now ( you'll have to pay a nominal $1 shipping charge) and you'll also receive TrimLife E-Book 101 Top Secret Fat Burning Recipes! the book is filled with recipes, tips, tricks and much, much more. Valued at $39.95, it's yours free with your free 7 day supply. Gary Galin CEO P.S. Order your 7 day FREE SUPPLY and lose 5 - 10 pounds ABSOLUTELY FREE! Don't be discouraged if other diet products haven't worked. try Trimlife for free and see the difference! If you would prefer not to receive marketing messages from us, please click here to UNSUBSCRIBE .</td>\n",
       "      <td>Scientific Discovery Turns your body into a 24-hour fat burning machine!</td>\n",
       "      <td>2001-11-23 13:12:51-05:00</td>\n",
       "      <td>False</td>\n",
       "      <td>False</td>\n",
       "      <td>newsletter</td>\n",
       "    </tr>\n",
       "    <tr>\n",
       "      <th>257678</th>\n",
       "      <td>noreply@ccomad3.uu.commissioner.com</td>\n",
       "      <td>tori.kuykendall@enron.com</td>\n",
       "      <td>&lt;26584824.1075859025104.JavaMail.evans@thyme&gt;</td>\n",
       "      <td></td>\n",
       "      <td></td>\n",
       "      <td>Battle your friends for glory in Planters Crunch Time -- the first-ever football game played via e-mail! Featuring graphic, play-by-play action, Planters Crunch Time is fast, fun, and FREE! Kickoff Now! Remember the NFL Hall of Famer's, Superbowl Champs and your favorite Teams or Players. Save 10% off NFL Memorabilia @ MVP.com. Enter coupon code HIGH10PC at checkout to receive this exclusive offer. Ends 10/23/01. Attention Fantasy Fans! Subscribe to The Sporting News now for a low $.99 per issue AND get a FREE Stainless Steel Thermo-Bottle! HURRY! Brought to you by You are receiving these e-reports because you have signed up for CBS SportsLine.com Fantasy Football. To customize, reschedule, or turn off these reports please click here Player Updates NFL Reports Latest NFL Player News Corey Bradford , WR GB - Free Agent Updated 10/21/01 Bradford started in place of the injured Bill Schroeder but was ineffective at Minnesota, catching four passes for only 32 yards. Bradford has yet to prove himself as a Fantasy player. Bubba Franks , TE GB - Free Agent Updated 10/21/01 Franks caught only two passes for nine yards, but one of his receptions was good for a two-yard TD. Franks has caught TD passes in five of six games this year and has become a major scori! ng! threat even though he is not very effective outside of the red zone. Derrick Alexander , WR KC - JWillie Updated 10/21/01 Alexander finally had a big game, posting 99 yards receiving and a touchdown against Arizona. He's been unreliable for the most part, however, but his potential to post numbers this good makes it tough to bench him. Trent Green , QB KC - Bass/Hull Updated 10/21/01 Green threw for 352 yards and a score in Sunday's 24-16 loss to Arizona. Green has been inconsistent this season, however, and no longer warrants a starting nod every week. Doug Chapman , RB MIN - Free Agent Updated 10/21/01 Chapman rushed for 90 yards on 22 carries against the Packers. His numbers were not great, but he was more effective than Michael Bennett has been so far. Chapman may continue to see a good amount of carries if Bennett cannot stay healthy or continues to struggle. David Boston , WR ARI - Bass/Hull Updated 10/21/01 Boston had a big game against Kansas City, posting seven receptions for 131 yards and a score. He's emerging as one of the best receivers in the league and is worth starting on a weekly basis. ! Mi! chael Pittman , RB ARI - Matty Updated 10/21/01 Pittman had a great outing on Sunday against Kansas City, posting 137 yards of total offense and a touchdown. Pittman won't post numbers this good with any regularity, but he's still a valuable player to have on your roster. Jeff Graham , WR SD - Free Agent Updated 10/21/01 Graham came up huge for San Diego on Sunday, catching seven passes for 107 yards and two scores against Denver. He's still not reliable enough to start on a regular basis, but he's certainly worth a roster spot. LaDainian Tomlinson , RB SD - Hunter Updated 10/21/01 ! Tomlinson was held in check for the first time this season by Denver on Sunday. The rookie tailback rushed for only 58 yards on the day, but he's still one of the top Fantasy players in the league. Desmond Clark , TE DEN - Free Agent Updated 10/21/01 Clark had a big game on Sunday, catching six passes for 54 yards and a score against San Diego. He's been reliable as far as tight ends go from a Fantasy perspective, so continue to start him on a weekly basis. Brian Griese , QB DEN - Matty Updated 10/21/01 Griese (shoulder) started Sunda! y'! s game against San Diego, but he was ineffective. He posted 212 yards passing, a touchdown and two interceptions in Denver's 27-10 loss. Peter Warrick , WR CIN - Giggles Updated 10/21/01 Warrick caught eight passes for 84 yards against Chicago. But the potentially explosive wideout is hurting his owners, because he does not find the end zone often. Corey Dillon , RB CIN - Frank Updated 10/21/01 The Bears held Dillon to just 30 yards on 16 carries. Expect the veteran runner to bounce back from such a quiet performance very quickly. ! David Terrell , WR CHI - Free Agent Updated 10/21/01 Terrell caught seven passes for 91 yards against Cincinnati. With Marcus Robinson injured, Terrell should assume a more prominent role in the Chicago passing game. Anthony Thomas , RB CHI - Martin Updated 10/21/01 Thomas rushed for 188 yards and a TD against Cincinnati, clearly establishing himself as Chicago's top RB. Expect him to be the Bears' featured back for the rest of the year. Frank Wycheck , TE TEN - Matty Updated 10/21/01 Wycheck caught seven passes for 100 yards and a TD at Detroit. ! De! spite some quiet outings until this week, he remains a top-notch Fantasy TE, especially with the Titans lacking in talent at wide receiver. Charlie Batch , QB DET - Free Agent Updated 10/21/01 Batch threw for 338 yards, three TDs and was intercepted once in a loss to Tennessee. Batch has stacked up good numbers in two consecutive weeks, but he remains a Fantasy risk because of his history of inconsistency. Steve McNair , QB TEN - Martin Updated 10/21/01 McNair threw for 216 yards, a TD and was intercepted twice at Detroit. He completed only 15 of 35 attempts, and many of his throws were inaccurate, possibly indicating he still might be bothered by shoulder problems. ! Eddie George , RB TEN - Tori Updated 10/21/01 George was held to 51 yards on 26 carries by Detroit. The lack of a reliable passing game in Tennessee has certainly hindered his production this year. Shawn Jefferson , WR ATL - Free Agent Updated 10/21/01 Jefferson caught three passes for 67 yards and a TD against the Saints. The speedy wideout has a long history of inconsistency, so don't expect good numbers from him every week. Alge Crumpler , TE ATL - Free Agent Updated 10/21/01 Crumpler caught five passes for 78 yards and a TD against New Orleans. Expect good totals from the big, quick tight end for the remainder of the year. Albert Connell , WR NO - Free Agent Updated 10/21/01 Connell caught only one pass for five yards against Atlanta. It is definitely time to give up on the disappointing wideout. Willie Jackson , WR NO - Martin Updated 10/21/01 Jackson finished with only 46 receiving yards on five catches against the Falcons. Mediocre numbers against the low-quality Atlanta defense indicate Jackson is not capa! bl! e of providing owners with regularly good numbers. Hines Ward , WR PIT - Tori Updated 10/21/01 Ward was limited to 44 yards on three catches by Tampa Bay. Ward is still making important receptions for the Steelers, but his Fantasy appeal is limited because of Pittsburgh's inability to consistently score in the air. Warrick Dunn , RB TB - Martin Updated 10/21/01 Dunn played despite a foot injury that had bothered him during the week, but he was limited to 31 yards on 13 carries by a physical Pittsburgh defense. Anthony Becht , TE NYJ - Free Agent Updated 10/21/01 Becht had a huge game against St. Louis, posting five catches for 35 yards and two scores. He's been inconsistent this season, however, but his potential to post good numbers makes him worth starting at a position lacking quality players. Keyshawn Johnson , WR TB - Giggles Updated 10/21/01 Johnson caught 10 passes for 159 yards against Pittsburgh. He has developed a good on-field relationship with QB Brad Johnson. The veteran wideout should continue to post high-quality numbers on a regular basis. Jerome Bettis , RB PIT - Giggles Updated 10/21/01 Bettis rushed for 143 yards and a TD on 17 carries against Tampa Bay. He also threw a 32-yard TD pass. His fine outing proves Bettis can compile good numbers against any defense. Trung Canidate , RB STL - Giggles Updated 10/21/01 Canidate had a huge game against the New York Jets, posting 232 yards of total offense and two scores. His role as the Rams' featured back may be short-lived, however, depending on the health of stud back Marshall Faulk. Rod Gardner , WR WAS - Free Agent Updated 10/21/01 Gardner had a huge game on Sunday, pos! ti! ng six catches for 208 yards and a score against Carolina. He seems to have overtaken Michael Westbrook as the No. 1 receiving target in Washington, and is worth a roster spot from a Fantasy perspective. More Updates View Transactions View Transactions Date Time Player Team Transaction Effective Cost ! 10/19/01 8:42 AM Carney, John Russell Signed Week 6 $2.5 Breakdown Schedule Breakdown JWillie Player Pos Points Brunell, Mark QB 9.0 Biakabutuka, Tim RB 20.0 James, Edgerrin RB 17.0 Alexander, Derrick WR 15.0 Coles, Laveranues WR 1.0 Scott, Darnay WR 3.0 Longwell, Ryan K 1.0 Saints DT 8.0 TOTAL 74.0 Chrebet, Wayne WR 0.0 Smith, Antowain RB 7.0 Alexander, Shaun RB 0.0 Alstott, Mike RB 1.0 Davis, Terrell RB 0.0 Garcia, Jeff QB 0.0 at Tori Player Pos Points Weinke, Chris QB 7.0 George, Eddie RB 5.0 Martin, Curtis RB 6.0 Carter, Cris WR 12.0 Holt, Torry WR 4.0 Ward, Hines WR 4.0 Richey, Wade K 11.0 Eagles DT 0.0 TOTAL 49.0 Toomer, Amani WR 0.0 Allen, Terry RB 1.0 Barlow, Kevan RB 0.0 Gramatica, Martin K 4.0 Pathon, Jerome WR 0.0 Copyright 2001 Commissioner.COM Inc and SportsLine.com Inc. Your site can be reached from http://fantasy.sportsline.com FB10SP</td>\n",
       "      <td>Commissioner.COM E-Reports for Big E '01 10/22/01</td>\n",
       "      <td>2001-10-22 06:44:33-04:00</td>\n",
       "      <td>False</td>\n",
       "      <td>False</td>\n",
       "      <td>newsletter</td>\n",
       "    </tr>\n",
       "    <tr>\n",
       "      <th>97107</th>\n",
       "      <td>noreply@ccomad3.uu.commissioner.com</td>\n",
       "      <td>frank.ermis@enron.com</td>\n",
       "      <td>&lt;28894847.1075861334622.JavaMail.evans@thyme&gt;</td>\n",
       "      <td></td>\n",
       "      <td></td>\n",
       "      <td>Battle your friends for glory in Planters Crunch Time -- the first-ever football game played via e-mail! Featuring graphic, play-by-play action, Planters Crunch Time is fast, fun, and FREE! Kickoff Now! Remember the NFL Hall of Famer's, Superbowl Champs and your favorite Teams or Players. Save 10% off NFL Memorabilia @ MVP.com. Enter coupon code HIGH10PC at checkout to receive this exclusive offer. Ends 10/23/01. Attention Fantasy Fans! Subscribe to The Sporting News now for a low $.99 per issue AND get a FREE Stainless Steel Thermo-Bottle! HURRY! Brought to you by Sponsorship Bar You are receiving these e-reports because you have signed up for CBS SportsLine.com Fantasy Football. To customize, reschedule, or turn off these reports please click here Player Updates NFL Reports Latest NFL Player News Corey Bradford , WR GB - Free Agent Updated 10/21/01 Bradford started in place of the injured Bill Schroeder but was ineffective at Minnesota, catching four passes for only 32 yards. Bradford has yet to prove himself as a Fantasy player. Bubba Franks , TE GB - Free Agent Updated 10/21/01 Franks caught only two passes for nine yards, but one of his receptions was good for a two-yard TD. Franks has caught TD passes in five of six games this year and has become a major scori! ng! threat even though he is not very effective outside of the red zone. Derrick Alexander , WR KC - JWillie Updated 10/21/01 Alexander finally had a big game, posting 99 yards receiving and a touchdown against Arizona. He's been unreliable for the most part, however, but his potential to post numbers this good makes it tough to bench him. Trent Green , QB KC - Bass/Hull Updated 10/21/01 Green threw for 352 yards and a score in Sunday's 24-16 loss to Arizona. Green has been inconsistent this season, however, and no longer warrants a starting nod every week. Doug Chapman , RB MIN - Free Agent Updated 10/21/01 Chapman rushed for 90 yards on 22 carries against the Packers. His numbers were not great, but he was more effective than Michael Bennett has been so far. Chapman may continue to see a good amount of carries if Bennett cannot stay healthy or continues to struggle. David Boston , WR ARI - Bass/Hull Updated 10/21/01 Boston had a big game against Kansas City, posting seven receptions for 131 yards and a score. He's emerging as one of the best receivers in the league and is worth starting on a weekly basis. ! Mi! chael Pittman , RB ARI - Matty Updated 10/21/01 Pittman had a great outing on Sunday against Kansas City, posting 137 yards of total offense and a touchdown. Pittman won't post numbers this good with any regularity, but he's still a valuable player to have on your roster. Jeff Graham , WR SD - Free Agent Updated 10/21/01 Graham came up huge for San Diego on Sunday, catching seven passes for 107 yards and two scores against Denver. He's still not reliable enough to start on a regular basis, but he's certainly worth a roster spot. LaDainian Tomlinson , RB SD - Hunter Updated 10/21/01 ! Tomlinson was held in check for the first time this season by Denver on Sunday. The rookie tailback rushed for only 58 yards on the day, but he's still one of the top Fantasy players in the league. Desmond Clark , TE DEN - Free Agent Updated 10/21/01 Clark had a big game on Sunday, catching six passes for 54 yards and a score against San Diego. He's been reliable as far as tight ends go from a Fantasy perspective, so continue to start him on a weekly basis. Brian Griese , QB DEN - Matty Updated 10/21/01 Griese (shoulder) started Sunda! y'! s game against San Diego, but he was ineffective. He posted 212 yards passing, a touchdown and two interceptions in Denver's 27-10 loss. Peter Warrick , WR CIN - Giggles Updated 10/21/01 Warrick caught eight passes for 84 yards against Chicago. But the potentially explosive wideout is hurting his owners, because he does not find the end zone often. Corey Dillon , RB CIN - Frank Updated 10/21/01 The Bears held Dillon to just 30 yards on 16 carries. Expect the veteran runner to bounce back from such a quiet performance very quickly. ! David Terrell , WR CHI - Free Agent Updated 10/21/01 Terrell caught seven passes for 91 yards against Cincinnati. With Marcus Robinson injured, Terrell should assume a more prominent role in the Chicago passing game. Anthony Thomas , RB CHI - Martin Updated 10/21/01 Thomas rushed for 188 yards and a TD against Cincinnati, clearly establishing himself as Chicago's top RB. Expect him to be the Bears' featured back for the rest of the year. Frank Wycheck , TE TEN - Matty Updated 10/21/01 Wycheck caught seven passes for 100 yards and a TD at Detroit. ! De! spite some quiet outings until this week, he remains a top-notch Fantasy TE, especially with the Titans lacking in talent at wide receiver. Charlie Batch , QB DET - Free Agent Updated 10/21/01 Batch threw for 338 yards, three TDs and was intercepted once in a loss to Tennessee. Batch has stacked up good numbers in two consecutive weeks, but he remains a Fantasy risk because of his history of inconsistency. Steve McNair , QB TEN - Martin Updated 10/21/01 McNair threw for 216 yards, a TD and was intercepted twice at Detroit. He completed only 15 of 35 attempts, and many of his throws were inaccurate, possibly indicating he still might be bothered by shoulder problems.! Eddie George , RB TEN - Tori Updated 10/21/01 George was held to 51 yards on 26 carries by Detroit. The lack of a reliable passing game in Tennessee has certainly hindered his production this year. Shawn Jefferson , WR ATL - Free Agent Updated 10/21/01 Jefferson caught three passes for 67 yards and a TD against the Saints. The speedy wideout has a long history of inconsistency, so don't expect good numbers from him every week. Alge Crumpler , TE ATL - Free Agent Updated 10/21/01 Crumpler caught five passes for 78 yards and a TD against New Orleans. Expect good totals from the big, quick tight end for the remainder of the year. Albert Connell , WR NO - Free Agent Updated 10/21/01 Connell caught only one pass for five yards against Atlanta. It is definitely time to give up on the disappointing wideout. Willie Jackson , WR NO - Martin Updated 10/21/01 Jackson finished with only 46 receiving yards on five catches against the Falcons. Mediocre numbers against the low-quality Atlanta defense indicate Jackson is not capa! bl! e of providing owners with regularly good numbers. Hines Ward , WR PIT - Tori Updated 10/21/01 Ward was limited to 44 yards on three catches by Tampa Bay. Ward is still making important receptions for the Steelers, but his Fantasy appeal is limited because of Pittsburgh's inability to consistently score in the air. Warrick Dunn , RB TB - Martin Updated 10/21/01 Dunn played despite a foot injury that had bothered him during the week, but he was limited to 31 yards on 13 carries by a physical Pittsburgh defense. Anthony Becht , TE NYJ - Free Agent Updated 10/21/01 Becht had a huge game against St. Louis, posting five catches for 35 yards and two scores. He's been inconsistent this season, however, but his potential to post good numbers makes him worth starting at a position lacking quality players. Keyshawn Johnson , WR TB - Giggles Updated 10/21/01 Johnson caught 10 passes for 159 yards against Pittsburgh. He has developed a good on-field relationship with QB Brad Johnson. The veteran wideout should continue to post high-quality numbers on a regular basis. Jerome Bettis , RB PIT - Giggles Updated 10/21/01 Bettis rushed for 143 yards and a TD on 17 carries against Tampa Bay. He also threw a 32-yard TD pass. His fine outing proves Bettis can compile good numbers against any defense. Trung Canidate , RB STL - Giggles Updated 10/21/01 Canidate had a huge game against the New York Jets, posting 232 yards of total offense and two scores. His role as the Rams' featured back may be short-lived, however, depending on the health of stud back Marshall Faulk. Rod Gardner , WR WAS - Free Agent Updated 10/21/01 Gardner had a huge game on Sunday, pos! ti! ng six catches for 208 yards and a score against Carolina. He seems to have overtaken Michael Westbrook as the No. 1 receiving target in Washington, and is worth a roster spot from a Fantasy perspective. More Updates View Transactions View Transactions Date Time Player Team Transaction Effective Cost! 10/19/01 8:42 AM Carney, John Russell Signed Week 6 $2.5 Breakdown Schedule Breakdown Frank Player Pos Points Favre, Brett QB 14.0 Dillon, Corey RB 3.0 Smith, Maurice RB 9.0 Bruce, Isaac WR 3.0 Smith, Jimmy WR 4.0 Thrash, James WR 0.0 Akers, David K 0.0 Titans DT 14.0 TOTAL 47.0 Plummer, Jake QB 17.0 Levens, Dorsey RB 0.0 Gary, Olandis RB 3.0 Hearst, Garrison RB 0.0 Mathis, Terance WR 2.0 Schroeder, Bill WR 0.0 at Giggles Player Pos Points Culpepper, Daunte QB 27.0 Bettis, Jerome RB 25.0 Staley, Duce RB 0.0 Crowell, Germane WR 12.0 Johnson, Keyshawn WR 15.0 Warrick, Peter WR 8.0 Hollis, Mike K 5.0 Raiders DT 0.0 TOTAL 92.0 Wheatley, Tyrone RB 0.0 Johnson, Rob QB 17.0 Canidate, Trung RB 34.0 Galloway, Joey WR 0.0 McAllister, Deuce RB 1.0 Minor, Travis RB 0.0 _____ Copyright 2001 Commissioner.COM Inc and SportsLine.com Inc. Your site can be reached from FB10SP</td>\n",
       "      <td>Commissioner.COM E-Reports for Big E '01 10/22/01</td>\n",
       "      <td>2001-10-22 06:44:33-04:00</td>\n",
       "      <td>False</td>\n",
       "      <td>False</td>\n",
       "      <td>newsletter</td>\n",
       "    </tr>\n",
       "    <tr>\n",
       "      <th>54101</th>\n",
       "      <td>noreply@ccomad3.uu.commissioner.com</td>\n",
       "      <td>martin.cuilla@enron.com</td>\n",
       "      <td>&lt;15901555.1075853086340.JavaMail.evans@thyme&gt;</td>\n",
       "      <td></td>\n",
       "      <td></td>\n",
       "      <td>Battle your friends for glory in Planters Crunch Time -- the first-ever football game played via e-mail! Featuring graphic, play-by-play action, Planters Crunch Time is fast, fun, and FREE! Kickoff Now! Remember the NFL Hall of Famer's, Superbowl Champs and your favorite Teams or Players. Save 10% off NFL Memorabilia @ MVP.com. Enter coupon code HIGH10PC at checkout to receive this exclusive offer. Ends 10/23/01. Attention Fantasy Fans! Subscribe to The Sporting News now for a low $.99 per issue AND get a FREE Stainless Steel Thermo-Bottle! HURRY! Brought to you by You are receiving these e-reports because you have signed up for CBS SportsLine.com Fantasy Football. To customize, reschedule, or turn off these reports please click here Player Updates NFL Reports Latest NFL Player News Corey Bradford , WR GB - Free Agent Updated 10/21/01 Bradford started in place of the injured Bill Schroeder but was ineffective at Minnesota, catching four passes for only 32 yards. Bradford has yet to prove himself as a Fantasy player. Bubba Franks , TE GB - Free Agent Updated 10/21/01 Franks caught only two passes for nine yards, but one of his receptions was good for a two-yard TD. Franks has caught TD passes in five of six games this year and has become a major scoring t! hr! eat even though he is not very effective outside of the red zone. Derrick Alexander , WR KC - JWillie Updated 10/21/01 Alexander finally had a big game, posting 99 yards receiving and a touchdown against Arizona. He's been unreliable for the most part, however, but his potential to post numbers this good makes it tough to bench him. Trent Green , QB KC - Bass/Hull Updated 10/21/01 Green threw for 352 yards and a score in Sunday's 24-16 loss to Arizona. Green has been inconsistent this season, however, and no longer warrants a starting nod every week. Doug Chapman , RB MIN - Free Agent Updated 10/21/01 Chapman rushed for 90 yards on 22 carries against the Packers. His numbers were not great, but he was more effective than Michael Bennett has been so far. Chapman may continue to see a good amount of carries if Bennett cannot stay healthy or continues to struggle. David Boston , WR ARI - Bass/Hull Updated 10/21/01 Boston had a big game against Kansas City, posting seven receptions for 131 yards and a score. He's emerging as one of the best receivers in the league and is worth starting on a weekly basis. Mich! ae! l Pittman , RB ARI - Matty Updated 10/21/01 Pittman had a great outing on Sunday against Kansas City, posting 137 yards of total offense and a touchdown. Pittman won't post numbers this good with any regularity, but he's still a valuable player to have on your roster. Jeff Graham , WR SD - Free Agent Updated 10/21/01 Graham came up huge for San Diego on Sunday, catching seven passes for 107 yards and two scores against Denver. He's still not reliable enough to start on a regular basis, but he's certainly worth a roster spot. LaDainian Tomlinson , RB SD - Hunter Updated 10/21/01 Tomlinson was held in check for the first time this season by Denver on Sunday. The rookie tailback rushed for only 58 yards on the day, but he's still one of the top Fantasy players in the league. Desmond Clark , TE DEN - Free Agent Updated 10/21/01 Clark had a big game on Sunday, catching six passes for 54 yards and a score against San Diego. He's been reliable as far as tight ends go from a Fantasy perspective, so continue to start him on a weekly basis. Brian Griese , QB DEN - Matty Updated 10/21/01 Griese (shoulder) started Sunday's game against San Diego, but he was ineffective. He posted 212 yards passing, a touchdown and two interceptions in Denver's 27-10 loss. Peter Warrick , WR CIN - Giggles Updated 10/21/01 Warrick caught eight passes for 84 yards against Chicago. But the potentially explosive wideout is hurting his owners, because he does not find the end zone often. Corey Dillon , RB CIN - Frank Updated 10/21/01 The Bears held Dillon to just 30 yards on 16 carries. Expect the veteran runner to bounce back from such a quiet performance very quickly. David Terrell , WR CHI - Free Agent Updated 10/21/01 Terrell caught seven passes for 91 yards ! ag! ainst Cincinnati. With Marcus Robinson injured, Terrell should assume a more prominent role in the Chicago passing game. Anthony Thomas , RB CHI - Martin Updated 10/21/01 Thomas rushed for 188 yards and a TD against Cincinnati, clearly establishing himself as Chicago's top RB. Expect him to be the Bears' featured back for the rest of the year. Frank Wycheck , TE TEN - Matty Updated 10/21/01 Wycheck caught seven passes for 100 yards and a TD at Detroit. Despite some quiet outings until this week, he remains a top-notch Fantasy TE, especially with the Titans lacking in talent at wide receiver. Charlie Batch , QB DET - Free Agent Updated 10/21/01 Batch threw for 338 yards, three TDs and was intercepted once in a loss to Tennessee. Batch has stacked up good numbers in two consecutive weeks, but he remains a Fantasy risk because of his history of inconsistency. Steve McNair , QB TEN - Martin Updated 10/21/01 McNair threw for 216 yards, a TD and was intercepted twice at Detroit. He completed only 15 of 35 attempts, and many of his throws were inaccurate, possibly indicating he still might be bothered by shoulder problems. Eddie George , RB TEN - Tori! Updated 10/21/01 George was held to 51 yards on 26 carries by Detroit. The lack of a reliable passing game in Tennessee has certainly hindered his production this year. Shawn Jefferson , WR ATL - Free Agent Updated 10/21/01 Jefferson caught three passes for 67 yards and a TD against the Saints. The speedy wideout has a long history of inconsistency, so don't expect good numbers from him every week. Alge Crumpler , TE ATL - Free Agent Updated 10/21/01 Crumpler caught five passes for 78 yards and a TD against New Orleans. Expect good totals from the big, quic! k ! tight end for the remainder of the year. Albert Connell , WR NO - Free Agent Updated 10/21/01 Connell caught only one pass for five yards against Atlanta. It is definitely time to give up on the disappointing wideout. Willie Jackson , WR NO - Martin Updated 10/21/01 Jackson finished with only 46 receiving yards on five catches against the Falcons. Mediocre numbers against the low-quality Atlanta defense indicate Jackson is not capable of providing owners with regularly good numbers. Hines Ward , WR PIT - Tori Updated 10/21/01 Ward was limited to 44 yards on three catches by Tampa Bay. Ward is still making important receptions for the Steelers, but his Fantasy appeal is limited because of Pittsburgh's inability to consistently score in the air. Warrick Dunn , RB TB - Martin Updated 10/21/01 Dunn played despite a foot injury that had bothered him during the week, but he was limited to 31 yards on 13 carries by a physical Pittsburgh defense. Anthony Becht , TE NYJ - Free Agent Updated 10/21/01 Becht had a huge game against ! St! . Louis, posting five catches for 35 yards and two scores. He's been inconsistent this season, however, but his potential to post good numbers makes him worth starting at a position lacking quality players. Keyshawn Johnson , WR TB - Giggles Updated 10/21/01 Johnson caught 10 passes for 159 yards against Pittsburgh. He has developed a good on-field relationship with QB Brad Johnson. The veteran wideout should continue to post high-quality numbers on a regular basis. Jerome Bettis , RB PIT - Giggles Updated 10/21/01 Bettis rushed for 143 yards and a TD on 17 carries against Tampa Bay. He also threw a 32-yard TD pass. His fine outing proves Bettis can compile good numbers against any defense. Trung Canidate , RB STL - Giggles Updated 10/21/01 Canidate had a huge game against the New York Jets, posting 232 yards of total offense and two scores. His role as the Rams' featured back may be short-lived, however, depending on the health of stud back Marshall Faulk. Rod Gardner , WR WAS - Free Agent Updated 10/21/01 Gardner had a huge game on Sunday, posting six catches for 208 yards and a score against Carolina. He seems to have overtaken Michael Westbrook as the No. 1 receiving target in Washington, and is worth a roster spot from a Fantasy perspective. More Updates View Transactions View Transactions Date Time Player Team Transaction Effective Cost ! 10/19/01 8:42 AM Carney, John Russell Signed Week 6 $2.5 Breakdown Schedule Breakdown Martin Player Pos Points McNair, Steve QB 15.0 Dunn, Warrick RB 4.0 Thomas, Anthony RB 24.0 Hayes, Donald WR 7.0 Jackson, Willie WR 4.0 Muhammad, Muhsin WR 2.0 Elam, Jason K 5.0 Packers DT 5.0 TOTAL 66.0 Dolphins DT 0.0 Gannon, Rich QB 0.0 Brown, Tim WR 0.0 Henry, Travis RB 9.0 Jenkins, MarTay WR 1.0 Moore, Rob WR 0.0 Owens, Terrell WR 0.0 at Russell Player Pos Points McNabb, Donovan QB 0.0 Holmes, Priest RB 10.0 White, Jamel RB 0.0 Harrison, Marvin WR 21.0 Moss, Randy WR 7.0 Gonzalez, Tony TE 5.0 Carney, John K 7.0 Ravens DT 5.0 TOTAL 55.0 Flutie, Doug QB 21.0 Taylor, Travis WR 0.0 Bledsoe, Drew QB 0.0 Collins, Kerry QB 0.0 Garner, Charlie RB 0.0 Hilliard, Ike WR 0.0 Copyright 2001 Commissioner.COM Inc and SportsLine.com Inc. Your site can be reached from http://fantasy.sportsline.com FB10SP</td>\n",
       "      <td>Commissioner.COM E-Reports for Big E '01 10/22/01</td>\n",
       "      <td>2001-10-22 06:44:32-04:00</td>\n",
       "      <td>False</td>\n",
       "      <td>False</td>\n",
       "      <td>newsletter</td>\n",
       "    </tr>\n",
       "  </tbody>\n",
       "</table>\n",
       "</div>"
      ],
      "text/plain": [
       "                                                                                     from  \\\n",
       "18350   trimlife.weight.loss-return-11-7-10825134-x3pacl23neeotqbz-274@mta10.optamail.com   \n",
       "503717                                                            bluechipbrands@m-ul.com   \n",
       "257678                                                noreply@ccomad3.uu.commissioner.com   \n",
       "97107                                                 noreply@ccomad3.uu.commissioner.com   \n",
       "54101                                                 noreply@ccomad3.uu.commissioner.com   \n",
       "\n",
       "                               to  \\\n",
       "18350      don.baughman@enron.com   \n",
       "503717      jason.wolfe@enron.com   \n",
       "257678  tori.kuykendall@enron.com   \n",
       "97107       frank.ermis@enron.com   \n",
       "54101     martin.cuilla@enron.com   \n",
       "\n",
       "                                               msg_id cc bcc  \\\n",
       "18350   <20251621.1075840328743.JavaMail.evans@thyme>          \n",
       "503717    <308892.1075861458224.JavaMail.evans@thyme>          \n",
       "257678  <26584824.1075859025104.JavaMail.evans@thyme>          \n",
       "97107   <28894847.1075861334622.JavaMail.evans@thyme>          \n",
       "54101   <15901555.1075853086340.JavaMail.evans@thyme>          \n",
       "\n",
       "                                                                                                                                                                                                                                                                                                                                                                                                                                                                                                                                                                                                                                                                                                                                                                                                                                                                                                                                                                                                                                                                                                                                                                                                                                                                                                                                                                                                                                                                                                                                                                                                                                                                                                                                                                                                                                                                                                                                                                                                                                                                                                                                                                                                                                                                                                                                                                                                                                                                                                                                                                                                                                                                                                                                                                                                                                                                                                                                                                                                                                                                                                                                                                                                                                                                                                                                                                                                                                                                                                                                                                                                                                                                                                                                                                                                                                                                                                                                                                                                                                                                                                                                                                                                                                                                                                                                                                                                                                                                                                                                                                                                                                                                                                                                                                                                                                                                                                                                                                                                                                                                                                                                                                                                                                                                                                                                                                                                                                                                                                                                                                                                                                                                                                                                                                                                                                                                                                                                                                                                                                                                                                                                                                                                                                                                                                                                                                                                                                                                                                                                                                                                                                                                                                                                                                                                                                                                                                                                                                                                                                                                                                                                                                                                                                                                                                                                                                                                                                                                                                                                                                                                                                                                                                                                                                                                                                                                                                                                                                                                                                                                                                                                                                                                                                                                                                                                                                                                                                                                                                                                                                                                                                                                                                                                                                                                                                                                                                                                                                                                                                                                                                                                                                                                                                                                                                                                                                                                                                                                                                                                                                                    clean_body  \\\n",
       "18350                                                                                                                                                                                                                                                                                                                                                                                                                                                                                                                                                                                                                                                                                                                                                                                                                                                                                                                                                                                                                                                                                                                                                                                                                                                                                                                                                                                                                                                                                                                                                                                                                                                                                                                                                                                                                                                                                                                                                                                                                                                                                                                                                                                                                                                                                                                                                                                                                                                                                                                                                                                                                                                                                                                                                                                                                                                                                                                                                                                                                                                                                                                                                                                                                                                                                                                                                                                                                                                                                                                                                                                                                                                                                                                                                                                                                                                                                                                                                                                                                                                                                                                                                                                                                                                                                                                                                                                                                                                                                                                                                                                                                                                                                                                                                                                                                                                                                                                                                                                                                                                                                                                                                                                                                                                                                                                                                                                                                                                                                                                                                                                                                                                                                                                                                                                                                                                                                                                                                                                                                                                                                                                                                                                                                                                                                                                                                                                                                                                                                                                                                                                                                                                                                                                                                                                                                                                                                                                                                                                                                                                                                                                                                                                                                                                                                                                                                                                                                                                                                                                                                                                                                                                                                                                                                                                                                                                                                                                                                                                                                                                                                                                                                                                                                                                                                                                                                                                                                                                                                                                                                                                                                                                                                              You are receiving this email because you asked to be sent special offers through one of the partners of eValueMarketing. eValueMarketing only brings you the best offers on the web. However, if you wish to unsubscribe, please follow the instructions at the bottom of the email. Banners List Lose Weight this New Year with Trimlife Dear Don, Introducing TrimLife, the COMPLETE online weight-loss program! In just 2 days, you'll see measurable results, and in just 10 days you'll lose up to 10 pounds or more. In fact, we're so sure that you'll lose weight that we'll send you a FREE 1 Week Sample to try, if you'll pay $1 towards the shipping. BONUS: To ensure your success we?ve arranged for your own online, personal, licensed weight-loss counselor to work with you every step of the way! If you don't want to get these letters anymore send a blank email logo   \n",
       "503717                                                                                                                                                                                                                                                                                                                                                                                                                                                                                                                                                                                                                                                                                                                                                                                                                                                                                                                                                                                                                                                                                                                                                                                                                                                                                                                                                                                                                                                                                                                                                                                                                                                                                                                                                                                                                                                                                                                                                                                                                                                                                                                                                                                                                                                                                                                                                                                                                                                                                                                                                                                                                                                                                                                                                                                                                                                                                                                                                                                                                                                                                                                                                                                                                                                                                                                                                                                                                                                                                                                                                                                                                                                                                                                                                                                                                                                                                                                                                                                                                                                                                                                                                                                                                                                                                                                                                                                                                                                                                                                                                                                                                                                                                                                                                                                                                                                                                                                                                                                                                                                                                                                                                                                                                                                                                                                                                                                                                                                                                                                                                                                                                                                                                                                                                                                                                                                                                                                                                                                                                                                                                                                                                                                                                                                                                                                                                                                                                                                                                                                                                                                                                                                                                                                                                                                                                                                                                                                                                                                                                                                                                                                                                                                                                                                                                                                                                                                                                                                                                                                                                                                                                                                                                                                                                                                                                                                                                                                                                                                                                                                                                                                                                                                                                                  NMG1LA1d You are receiving this email from Blue Chip Brands. If you would prefer not to receive messages of this sort in the future, please see the unsubscribe instructions at the bottom of this email. Jason LOSE 5 - 10 POUNDS ABSOLUTELY FREE in just 7 days! SCIENTIST DISCOVERY TURNS YOUR BODY IN TO A 24 HOUR FAT BURING MACHINE! Trimlife is so excited to be a part of this project that we're giving away a FREE 1 week supply - that's 5 - 10 pounds of weight loss ABSOLUTELY FREE! Why are we doing this? Because Trimlife works. In fact, it works so well we're certain you'll be a happy customer. What have you got to lose. Lose 5 - 10 pounds in just 7 days, ABSOLUTELY FREE. Act now! A slimmer body is waiting for you. Order your FREE 7 day supply now ( you'll have to pay a nominal $1 shipping charge) and you'll also receive TrimLife E-Book 101 Top Secret Fat Burning Recipes! the book is filled with recipes, tips, tricks and much, much more. Valued at $39.95, it's yours free with your free 7 day supply. Gary Galin CEO P.S. Order your 7 day FREE SUPPLY and lose 5 - 10 pounds ABSOLUTELY FREE! Don't be discouraged if other diet products haven't worked. try Trimlife for free and see the difference! If you would prefer not to receive marketing messages from us, please click here to UNSUBSCRIBE .   \n",
       "257678                         Battle your friends for glory in Planters Crunch Time -- the first-ever football game played via e-mail! Featuring graphic, play-by-play action, Planters Crunch Time is fast, fun, and FREE! Kickoff Now! Remember the NFL Hall of Famer's, Superbowl Champs and your favorite Teams or Players. Save 10% off NFL Memorabilia @ MVP.com. Enter coupon code HIGH10PC at checkout to receive this exclusive offer. Ends 10/23/01. Attention Fantasy Fans! Subscribe to The Sporting News now for a low $.99 per issue AND get a FREE Stainless Steel Thermo-Bottle! HURRY! Brought to you by You are receiving these e-reports because you have signed up for CBS SportsLine.com Fantasy Football. To customize, reschedule, or turn off these reports please click here Player Updates NFL Reports Latest NFL Player News Corey Bradford , WR GB - Free Agent Updated 10/21/01 Bradford started in place of the injured Bill Schroeder but was ineffective at Minnesota, catching four passes for only 32 yards. Bradford has yet to prove himself as a Fantasy player. Bubba Franks , TE GB - Free Agent Updated 10/21/01 Franks caught only two passes for nine yards, but one of his receptions was good for a two-yard TD. Franks has caught TD passes in five of six games this year and has become a major scori! ng! threat even though he is not very effective outside of the red zone. Derrick Alexander , WR KC - JWillie Updated 10/21/01 Alexander finally had a big game, posting 99 yards receiving and a touchdown against Arizona. He's been unreliable for the most part, however, but his potential to post numbers this good makes it tough to bench him. Trent Green , QB KC - Bass/Hull Updated 10/21/01 Green threw for 352 yards and a score in Sunday's 24-16 loss to Arizona. Green has been inconsistent this season, however, and no longer warrants a starting nod every week. Doug Chapman , RB MIN - Free Agent Updated 10/21/01 Chapman rushed for 90 yards on 22 carries against the Packers. His numbers were not great, but he was more effective than Michael Bennett has been so far. Chapman may continue to see a good amount of carries if Bennett cannot stay healthy or continues to struggle. David Boston , WR ARI - Bass/Hull Updated 10/21/01 Boston had a big game against Kansas City, posting seven receptions for 131 yards and a score. He's emerging as one of the best receivers in the league and is worth starting on a weekly basis. ! Mi! chael Pittman , RB ARI - Matty Updated 10/21/01 Pittman had a great outing on Sunday against Kansas City, posting 137 yards of total offense and a touchdown. Pittman won't post numbers this good with any regularity, but he's still a valuable player to have on your roster. Jeff Graham , WR SD - Free Agent Updated 10/21/01 Graham came up huge for San Diego on Sunday, catching seven passes for 107 yards and two scores against Denver. He's still not reliable enough to start on a regular basis, but he's certainly worth a roster spot. LaDainian Tomlinson , RB SD - Hunter Updated 10/21/01 ! Tomlinson was held in check for the first time this season by Denver on Sunday. The rookie tailback rushed for only 58 yards on the day, but he's still one of the top Fantasy players in the league. Desmond Clark , TE DEN - Free Agent Updated 10/21/01 Clark had a big game on Sunday, catching six passes for 54 yards and a score against San Diego. He's been reliable as far as tight ends go from a Fantasy perspective, so continue to start him on a weekly basis. Brian Griese , QB DEN - Matty Updated 10/21/01 Griese (shoulder) started Sunda! y'! s game against San Diego, but he was ineffective. He posted 212 yards passing, a touchdown and two interceptions in Denver's 27-10 loss. Peter Warrick , WR CIN - Giggles Updated 10/21/01 Warrick caught eight passes for 84 yards against Chicago. But the potentially explosive wideout is hurting his owners, because he does not find the end zone often. Corey Dillon , RB CIN - Frank Updated 10/21/01 The Bears held Dillon to just 30 yards on 16 carries. Expect the veteran runner to bounce back from such a quiet performance very quickly. ! David Terrell , WR CHI - Free Agent Updated 10/21/01 Terrell caught seven passes for 91 yards against Cincinnati. With Marcus Robinson injured, Terrell should assume a more prominent role in the Chicago passing game. Anthony Thomas , RB CHI - Martin Updated 10/21/01 Thomas rushed for 188 yards and a TD against Cincinnati, clearly establishing himself as Chicago's top RB. Expect him to be the Bears' featured back for the rest of the year. Frank Wycheck , TE TEN - Matty Updated 10/21/01 Wycheck caught seven passes for 100 yards and a TD at Detroit. ! De! spite some quiet outings until this week, he remains a top-notch Fantasy TE, especially with the Titans lacking in talent at wide receiver. Charlie Batch , QB DET - Free Agent Updated 10/21/01 Batch threw for 338 yards, three TDs and was intercepted once in a loss to Tennessee. Batch has stacked up good numbers in two consecutive weeks, but he remains a Fantasy risk because of his history of inconsistency. Steve McNair , QB TEN - Martin Updated 10/21/01 McNair threw for 216 yards, a TD and was intercepted twice at Detroit. He completed only 15 of 35 attempts, and many of his throws were inaccurate, possibly indicating he still might be bothered by shoulder problems. ! Eddie George , RB TEN - Tori Updated 10/21/01 George was held to 51 yards on 26 carries by Detroit. The lack of a reliable passing game in Tennessee has certainly hindered his production this year. Shawn Jefferson , WR ATL - Free Agent Updated 10/21/01 Jefferson caught three passes for 67 yards and a TD against the Saints. The speedy wideout has a long history of inconsistency, so don't expect good numbers from him every week. Alge Crumpler , TE ATL - Free Agent Updated 10/21/01 Crumpler caught five passes for 78 yards and a TD against New Orleans. Expect good totals from the big, quick tight end for the remainder of the year. Albert Connell , WR NO - Free Agent Updated 10/21/01 Connell caught only one pass for five yards against Atlanta. It is definitely time to give up on the disappointing wideout. Willie Jackson , WR NO - Martin Updated 10/21/01 Jackson finished with only 46 receiving yards on five catches against the Falcons. Mediocre numbers against the low-quality Atlanta defense indicate Jackson is not capa! bl! e of providing owners with regularly good numbers. Hines Ward , WR PIT - Tori Updated 10/21/01 Ward was limited to 44 yards on three catches by Tampa Bay. Ward is still making important receptions for the Steelers, but his Fantasy appeal is limited because of Pittsburgh's inability to consistently score in the air. Warrick Dunn , RB TB - Martin Updated 10/21/01 Dunn played despite a foot injury that had bothered him during the week, but he was limited to 31 yards on 13 carries by a physical Pittsburgh defense. Anthony Becht , TE NYJ - Free Agent Updated 10/21/01 Becht had a huge game against St. Louis, posting five catches for 35 yards and two scores. He's been inconsistent this season, however, but his potential to post good numbers makes him worth starting at a position lacking quality players. Keyshawn Johnson , WR TB - Giggles Updated 10/21/01 Johnson caught 10 passes for 159 yards against Pittsburgh. He has developed a good on-field relationship with QB Brad Johnson. The veteran wideout should continue to post high-quality numbers on a regular basis. Jerome Bettis , RB PIT - Giggles Updated 10/21/01 Bettis rushed for 143 yards and a TD on 17 carries against Tampa Bay. He also threw a 32-yard TD pass. His fine outing proves Bettis can compile good numbers against any defense. Trung Canidate , RB STL - Giggles Updated 10/21/01 Canidate had a huge game against the New York Jets, posting 232 yards of total offense and two scores. His role as the Rams' featured back may be short-lived, however, depending on the health of stud back Marshall Faulk. Rod Gardner , WR WAS - Free Agent Updated 10/21/01 Gardner had a huge game on Sunday, pos! ti! ng six catches for 208 yards and a score against Carolina. He seems to have overtaken Michael Westbrook as the No. 1 receiving target in Washington, and is worth a roster spot from a Fantasy perspective. More Updates View Transactions View Transactions Date Time Player Team Transaction Effective Cost ! 10/19/01 8:42 AM Carney, John Russell Signed Week 6 $2.5 Breakdown Schedule Breakdown JWillie Player Pos Points Brunell, Mark QB 9.0 Biakabutuka, Tim RB 20.0 James, Edgerrin RB 17.0 Alexander, Derrick WR 15.0 Coles, Laveranues WR 1.0 Scott, Darnay WR 3.0 Longwell, Ryan K 1.0 Saints DT 8.0 TOTAL 74.0 Chrebet, Wayne WR 0.0 Smith, Antowain RB 7.0 Alexander, Shaun RB 0.0 Alstott, Mike RB 1.0 Davis, Terrell RB 0.0 Garcia, Jeff QB 0.0 at Tori Player Pos Points Weinke, Chris QB 7.0 George, Eddie RB 5.0 Martin, Curtis RB 6.0 Carter, Cris WR 12.0 Holt, Torry WR 4.0 Ward, Hines WR 4.0 Richey, Wade K 11.0 Eagles DT 0.0 TOTAL 49.0 Toomer, Amani WR 0.0 Allen, Terry RB 1.0 Barlow, Kevan RB 0.0 Gramatica, Martin K 4.0 Pathon, Jerome WR 0.0 Copyright 2001 Commissioner.COM Inc and SportsLine.com Inc. Your site can be reached from http://fantasy.sportsline.com FB10SP   \n",
       "97107   Battle your friends for glory in Planters Crunch Time -- the first-ever football game played via e-mail! Featuring graphic, play-by-play action, Planters Crunch Time is fast, fun, and FREE! Kickoff Now! Remember the NFL Hall of Famer's, Superbowl Champs and your favorite Teams or Players. Save 10% off NFL Memorabilia @ MVP.com. Enter coupon code HIGH10PC at checkout to receive this exclusive offer. Ends 10/23/01. Attention Fantasy Fans! Subscribe to The Sporting News now for a low $.99 per issue AND get a FREE Stainless Steel Thermo-Bottle! HURRY! Brought to you by Sponsorship Bar You are receiving these e-reports because you have signed up for CBS SportsLine.com Fantasy Football. To customize, reschedule, or turn off these reports please click here Player Updates NFL Reports Latest NFL Player News Corey Bradford , WR GB - Free Agent Updated 10/21/01 Bradford started in place of the injured Bill Schroeder but was ineffective at Minnesota, catching four passes for only 32 yards. Bradford has yet to prove himself as a Fantasy player. Bubba Franks , TE GB - Free Agent Updated 10/21/01 Franks caught only two passes for nine yards, but one of his receptions was good for a two-yard TD. Franks has caught TD passes in five of six games this year and has become a major scori! ng! threat even though he is not very effective outside of the red zone. Derrick Alexander , WR KC - JWillie Updated 10/21/01 Alexander finally had a big game, posting 99 yards receiving and a touchdown against Arizona. He's been unreliable for the most part, however, but his potential to post numbers this good makes it tough to bench him. Trent Green , QB KC - Bass/Hull Updated 10/21/01 Green threw for 352 yards and a score in Sunday's 24-16 loss to Arizona. Green has been inconsistent this season, however, and no longer warrants a starting nod every week. Doug Chapman , RB MIN - Free Agent Updated 10/21/01 Chapman rushed for 90 yards on 22 carries against the Packers. His numbers were not great, but he was more effective than Michael Bennett has been so far. Chapman may continue to see a good amount of carries if Bennett cannot stay healthy or continues to struggle. David Boston , WR ARI - Bass/Hull Updated 10/21/01 Boston had a big game against Kansas City, posting seven receptions for 131 yards and a score. He's emerging as one of the best receivers in the league and is worth starting on a weekly basis. ! Mi! chael Pittman , RB ARI - Matty Updated 10/21/01 Pittman had a great outing on Sunday against Kansas City, posting 137 yards of total offense and a touchdown. Pittman won't post numbers this good with any regularity, but he's still a valuable player to have on your roster. Jeff Graham , WR SD - Free Agent Updated 10/21/01 Graham came up huge for San Diego on Sunday, catching seven passes for 107 yards and two scores against Denver. He's still not reliable enough to start on a regular basis, but he's certainly worth a roster spot. LaDainian Tomlinson , RB SD - Hunter Updated 10/21/01 ! Tomlinson was held in check for the first time this season by Denver on Sunday. The rookie tailback rushed for only 58 yards on the day, but he's still one of the top Fantasy players in the league. Desmond Clark , TE DEN - Free Agent Updated 10/21/01 Clark had a big game on Sunday, catching six passes for 54 yards and a score against San Diego. He's been reliable as far as tight ends go from a Fantasy perspective, so continue to start him on a weekly basis. Brian Griese , QB DEN - Matty Updated 10/21/01 Griese (shoulder) started Sunda! y'! s game against San Diego, but he was ineffective. He posted 212 yards passing, a touchdown and two interceptions in Denver's 27-10 loss. Peter Warrick , WR CIN - Giggles Updated 10/21/01 Warrick caught eight passes for 84 yards against Chicago. But the potentially explosive wideout is hurting his owners, because he does not find the end zone often. Corey Dillon , RB CIN - Frank Updated 10/21/01 The Bears held Dillon to just 30 yards on 16 carries. Expect the veteran runner to bounce back from such a quiet performance very quickly. ! David Terrell , WR CHI - Free Agent Updated 10/21/01 Terrell caught seven passes for 91 yards against Cincinnati. With Marcus Robinson injured, Terrell should assume a more prominent role in the Chicago passing game. Anthony Thomas , RB CHI - Martin Updated 10/21/01 Thomas rushed for 188 yards and a TD against Cincinnati, clearly establishing himself as Chicago's top RB. Expect him to be the Bears' featured back for the rest of the year. Frank Wycheck , TE TEN - Matty Updated 10/21/01 Wycheck caught seven passes for 100 yards and a TD at Detroit. ! De! spite some quiet outings until this week, he remains a top-notch Fantasy TE, especially with the Titans lacking in talent at wide receiver. Charlie Batch , QB DET - Free Agent Updated 10/21/01 Batch threw for 338 yards, three TDs and was intercepted once in a loss to Tennessee. Batch has stacked up good numbers in two consecutive weeks, but he remains a Fantasy risk because of his history of inconsistency. Steve McNair , QB TEN - Martin Updated 10/21/01 McNair threw for 216 yards, a TD and was intercepted twice at Detroit. He completed only 15 of 35 attempts, and many of his throws were inaccurate, possibly indicating he still might be bothered by shoulder problems.! Eddie George , RB TEN - Tori Updated 10/21/01 George was held to 51 yards on 26 carries by Detroit. The lack of a reliable passing game in Tennessee has certainly hindered his production this year. Shawn Jefferson , WR ATL - Free Agent Updated 10/21/01 Jefferson caught three passes for 67 yards and a TD against the Saints. The speedy wideout has a long history of inconsistency, so don't expect good numbers from him every week. Alge Crumpler , TE ATL - Free Agent Updated 10/21/01 Crumpler caught five passes for 78 yards and a TD against New Orleans. Expect good totals from the big, quick tight end for the remainder of the year. Albert Connell , WR NO - Free Agent Updated 10/21/01 Connell caught only one pass for five yards against Atlanta. It is definitely time to give up on the disappointing wideout. Willie Jackson , WR NO - Martin Updated 10/21/01 Jackson finished with only 46 receiving yards on five catches against the Falcons. Mediocre numbers against the low-quality Atlanta defense indicate Jackson is not capa! bl! e of providing owners with regularly good numbers. Hines Ward , WR PIT - Tori Updated 10/21/01 Ward was limited to 44 yards on three catches by Tampa Bay. Ward is still making important receptions for the Steelers, but his Fantasy appeal is limited because of Pittsburgh's inability to consistently score in the air. Warrick Dunn , RB TB - Martin Updated 10/21/01 Dunn played despite a foot injury that had bothered him during the week, but he was limited to 31 yards on 13 carries by a physical Pittsburgh defense. Anthony Becht , TE NYJ - Free Agent Updated 10/21/01 Becht had a huge game against St. Louis, posting five catches for 35 yards and two scores. He's been inconsistent this season, however, but his potential to post good numbers makes him worth starting at a position lacking quality players. Keyshawn Johnson , WR TB - Giggles Updated 10/21/01 Johnson caught 10 passes for 159 yards against Pittsburgh. He has developed a good on-field relationship with QB Brad Johnson. The veteran wideout should continue to post high-quality numbers on a regular basis. Jerome Bettis , RB PIT - Giggles Updated 10/21/01 Bettis rushed for 143 yards and a TD on 17 carries against Tampa Bay. He also threw a 32-yard TD pass. His fine outing proves Bettis can compile good numbers against any defense. Trung Canidate , RB STL - Giggles Updated 10/21/01 Canidate had a huge game against the New York Jets, posting 232 yards of total offense and two scores. His role as the Rams' featured back may be short-lived, however, depending on the health of stud back Marshall Faulk. Rod Gardner , WR WAS - Free Agent Updated 10/21/01 Gardner had a huge game on Sunday, pos! ti! ng six catches for 208 yards and a score against Carolina. He seems to have overtaken Michael Westbrook as the No. 1 receiving target in Washington, and is worth a roster spot from a Fantasy perspective. More Updates View Transactions View Transactions Date Time Player Team Transaction Effective Cost! 10/19/01 8:42 AM Carney, John Russell Signed Week 6 $2.5 Breakdown Schedule Breakdown Frank Player Pos Points Favre, Brett QB 14.0 Dillon, Corey RB 3.0 Smith, Maurice RB 9.0 Bruce, Isaac WR 3.0 Smith, Jimmy WR 4.0 Thrash, James WR 0.0 Akers, David K 0.0 Titans DT 14.0 TOTAL 47.0 Plummer, Jake QB 17.0 Levens, Dorsey RB 0.0 Gary, Olandis RB 3.0 Hearst, Garrison RB 0.0 Mathis, Terance WR 2.0 Schroeder, Bill WR 0.0 at Giggles Player Pos Points Culpepper, Daunte QB 27.0 Bettis, Jerome RB 25.0 Staley, Duce RB 0.0 Crowell, Germane WR 12.0 Johnson, Keyshawn WR 15.0 Warrick, Peter WR 8.0 Hollis, Mike K 5.0 Raiders DT 0.0 TOTAL 92.0 Wheatley, Tyrone RB 0.0 Johnson, Rob QB 17.0 Canidate, Trung RB 34.0 Galloway, Joey WR 0.0 McAllister, Deuce RB 1.0 Minor, Travis RB 0.0 _____ Copyright 2001 Commissioner.COM Inc and SportsLine.com Inc. Your site can be reached from FB10SP   \n",
       "54101      Battle your friends for glory in Planters Crunch Time -- the first-ever football game played via e-mail! Featuring graphic, play-by-play action, Planters Crunch Time is fast, fun, and FREE! Kickoff Now! Remember the NFL Hall of Famer's, Superbowl Champs and your favorite Teams or Players. Save 10% off NFL Memorabilia @ MVP.com. Enter coupon code HIGH10PC at checkout to receive this exclusive offer. Ends 10/23/01. Attention Fantasy Fans! Subscribe to The Sporting News now for a low $.99 per issue AND get a FREE Stainless Steel Thermo-Bottle! HURRY! Brought to you by You are receiving these e-reports because you have signed up for CBS SportsLine.com Fantasy Football. To customize, reschedule, or turn off these reports please click here Player Updates NFL Reports Latest NFL Player News Corey Bradford , WR GB - Free Agent Updated 10/21/01 Bradford started in place of the injured Bill Schroeder but was ineffective at Minnesota, catching four passes for only 32 yards. Bradford has yet to prove himself as a Fantasy player. Bubba Franks , TE GB - Free Agent Updated 10/21/01 Franks caught only two passes for nine yards, but one of his receptions was good for a two-yard TD. Franks has caught TD passes in five of six games this year and has become a major scoring t! hr! eat even though he is not very effective outside of the red zone. Derrick Alexander , WR KC - JWillie Updated 10/21/01 Alexander finally had a big game, posting 99 yards receiving and a touchdown against Arizona. He's been unreliable for the most part, however, but his potential to post numbers this good makes it tough to bench him. Trent Green , QB KC - Bass/Hull Updated 10/21/01 Green threw for 352 yards and a score in Sunday's 24-16 loss to Arizona. Green has been inconsistent this season, however, and no longer warrants a starting nod every week. Doug Chapman , RB MIN - Free Agent Updated 10/21/01 Chapman rushed for 90 yards on 22 carries against the Packers. His numbers were not great, but he was more effective than Michael Bennett has been so far. Chapman may continue to see a good amount of carries if Bennett cannot stay healthy or continues to struggle. David Boston , WR ARI - Bass/Hull Updated 10/21/01 Boston had a big game against Kansas City, posting seven receptions for 131 yards and a score. He's emerging as one of the best receivers in the league and is worth starting on a weekly basis. Mich! ae! l Pittman , RB ARI - Matty Updated 10/21/01 Pittman had a great outing on Sunday against Kansas City, posting 137 yards of total offense and a touchdown. Pittman won't post numbers this good with any regularity, but he's still a valuable player to have on your roster. Jeff Graham , WR SD - Free Agent Updated 10/21/01 Graham came up huge for San Diego on Sunday, catching seven passes for 107 yards and two scores against Denver. He's still not reliable enough to start on a regular basis, but he's certainly worth a roster spot. LaDainian Tomlinson , RB SD - Hunter Updated 10/21/01 Tomlinson was held in check for the first time this season by Denver on Sunday. The rookie tailback rushed for only 58 yards on the day, but he's still one of the top Fantasy players in the league. Desmond Clark , TE DEN - Free Agent Updated 10/21/01 Clark had a big game on Sunday, catching six passes for 54 yards and a score against San Diego. He's been reliable as far as tight ends go from a Fantasy perspective, so continue to start him on a weekly basis. Brian Griese , QB DEN - Matty Updated 10/21/01 Griese (shoulder) started Sunday's game against San Diego, but he was ineffective. He posted 212 yards passing, a touchdown and two interceptions in Denver's 27-10 loss. Peter Warrick , WR CIN - Giggles Updated 10/21/01 Warrick caught eight passes for 84 yards against Chicago. But the potentially explosive wideout is hurting his owners, because he does not find the end zone often. Corey Dillon , RB CIN - Frank Updated 10/21/01 The Bears held Dillon to just 30 yards on 16 carries. Expect the veteran runner to bounce back from such a quiet performance very quickly. David Terrell , WR CHI - Free Agent Updated 10/21/01 Terrell caught seven passes for 91 yards ! ag! ainst Cincinnati. With Marcus Robinson injured, Terrell should assume a more prominent role in the Chicago passing game. Anthony Thomas , RB CHI - Martin Updated 10/21/01 Thomas rushed for 188 yards and a TD against Cincinnati, clearly establishing himself as Chicago's top RB. Expect him to be the Bears' featured back for the rest of the year. Frank Wycheck , TE TEN - Matty Updated 10/21/01 Wycheck caught seven passes for 100 yards and a TD at Detroit. Despite some quiet outings until this week, he remains a top-notch Fantasy TE, especially with the Titans lacking in talent at wide receiver. Charlie Batch , QB DET - Free Agent Updated 10/21/01 Batch threw for 338 yards, three TDs and was intercepted once in a loss to Tennessee. Batch has stacked up good numbers in two consecutive weeks, but he remains a Fantasy risk because of his history of inconsistency. Steve McNair , QB TEN - Martin Updated 10/21/01 McNair threw for 216 yards, a TD and was intercepted twice at Detroit. He completed only 15 of 35 attempts, and many of his throws were inaccurate, possibly indicating he still might be bothered by shoulder problems. Eddie George , RB TEN - Tori! Updated 10/21/01 George was held to 51 yards on 26 carries by Detroit. The lack of a reliable passing game in Tennessee has certainly hindered his production this year. Shawn Jefferson , WR ATL - Free Agent Updated 10/21/01 Jefferson caught three passes for 67 yards and a TD against the Saints. The speedy wideout has a long history of inconsistency, so don't expect good numbers from him every week. Alge Crumpler , TE ATL - Free Agent Updated 10/21/01 Crumpler caught five passes for 78 yards and a TD against New Orleans. Expect good totals from the big, quic! k ! tight end for the remainder of the year. Albert Connell , WR NO - Free Agent Updated 10/21/01 Connell caught only one pass for five yards against Atlanta. It is definitely time to give up on the disappointing wideout. Willie Jackson , WR NO - Martin Updated 10/21/01 Jackson finished with only 46 receiving yards on five catches against the Falcons. Mediocre numbers against the low-quality Atlanta defense indicate Jackson is not capable of providing owners with regularly good numbers. Hines Ward , WR PIT - Tori Updated 10/21/01 Ward was limited to 44 yards on three catches by Tampa Bay. Ward is still making important receptions for the Steelers, but his Fantasy appeal is limited because of Pittsburgh's inability to consistently score in the air. Warrick Dunn , RB TB - Martin Updated 10/21/01 Dunn played despite a foot injury that had bothered him during the week, but he was limited to 31 yards on 13 carries by a physical Pittsburgh defense. Anthony Becht , TE NYJ - Free Agent Updated 10/21/01 Becht had a huge game against ! St! . Louis, posting five catches for 35 yards and two scores. He's been inconsistent this season, however, but his potential to post good numbers makes him worth starting at a position lacking quality players. Keyshawn Johnson , WR TB - Giggles Updated 10/21/01 Johnson caught 10 passes for 159 yards against Pittsburgh. He has developed a good on-field relationship with QB Brad Johnson. The veteran wideout should continue to post high-quality numbers on a regular basis. Jerome Bettis , RB PIT - Giggles Updated 10/21/01 Bettis rushed for 143 yards and a TD on 17 carries against Tampa Bay. He also threw a 32-yard TD pass. His fine outing proves Bettis can compile good numbers against any defense. Trung Canidate , RB STL - Giggles Updated 10/21/01 Canidate had a huge game against the New York Jets, posting 232 yards of total offense and two scores. His role as the Rams' featured back may be short-lived, however, depending on the health of stud back Marshall Faulk. Rod Gardner , WR WAS - Free Agent Updated 10/21/01 Gardner had a huge game on Sunday, posting six catches for 208 yards and a score against Carolina. He seems to have overtaken Michael Westbrook as the No. 1 receiving target in Washington, and is worth a roster spot from a Fantasy perspective. More Updates View Transactions View Transactions Date Time Player Team Transaction Effective Cost ! 10/19/01 8:42 AM Carney, John Russell Signed Week 6 $2.5 Breakdown Schedule Breakdown Martin Player Pos Points McNair, Steve QB 15.0 Dunn, Warrick RB 4.0 Thomas, Anthony RB 24.0 Hayes, Donald WR 7.0 Jackson, Willie WR 4.0 Muhammad, Muhsin WR 2.0 Elam, Jason K 5.0 Packers DT 5.0 TOTAL 66.0 Dolphins DT 0.0 Gannon, Rich QB 0.0 Brown, Tim WR 0.0 Henry, Travis RB 9.0 Jenkins, MarTay WR 1.0 Moore, Rob WR 0.0 Owens, Terrell WR 0.0 at Russell Player Pos Points McNabb, Donovan QB 0.0 Holmes, Priest RB 10.0 White, Jamel RB 0.0 Harrison, Marvin WR 21.0 Moss, Randy WR 7.0 Gonzalez, Tony TE 5.0 Carney, John K 7.0 Ravens DT 5.0 TOTAL 55.0 Flutie, Doug QB 21.0 Taylor, Travis WR 0.0 Bledsoe, Drew QB 0.0 Collins, Kerry QB 0.0 Garner, Charlie RB 0.0 Hilliard, Ike WR 0.0 Copyright 2001 Commissioner.COM Inc and SportsLine.com Inc. Your site can be reached from http://fantasy.sportsline.com FB10SP   \n",
       "\n",
       "                                                                         subject  \\\n",
       "18350                                                        Free 1 Week Sample!   \n",
       "503717  Scientific Discovery Turns your body into a 24-hour fat burning machine!   \n",
       "257678                         Commissioner.COM E-Reports for Big E '01 10/22/01   \n",
       "97107                          Commissioner.COM E-Reports for Big E '01 10/22/01   \n",
       "54101                          Commissioner.COM E-Reports for Big E '01 10/22/01   \n",
       "\n",
       "                             date  has_other_content  is_forwarded       label  \n",
       "18350   2002-01-29 15:00:01-05:00              False         False  newsletter  \n",
       "503717  2001-11-23 13:12:51-05:00              False         False  newsletter  \n",
       "257678  2001-10-22 06:44:33-04:00              False         False  newsletter  \n",
       "97107   2001-10-22 06:44:33-04:00              False         False  newsletter  \n",
       "54101   2001-10-22 06:44:32-04:00              False         False  newsletter  "
      ]
     },
     "execution_count": 184,
     "metadata": {},
     "output_type": "execute_result"
    }
   ],
   "source": [
    "labeled_batch.set_index(\"orig_index\", inplace=True)\n",
    "labeled_batch.index.name = None\n",
    "labeled_batch.fillna(\"\", inplace=True) \n",
    "labeled_batch.head()"
   ]
  },
  {
   "cell_type": "markdown",
   "id": "755700e3",
   "metadata": {},
   "source": [
    "Then I create the next large dataset to work with in the next run. This dataset no longer contains the batch emails."
   ]
  },
  {
   "cell_type": "code",
   "execution_count": 185,
   "id": "e2f556aa",
   "metadata": {},
   "outputs": [],
   "source": [
    "train_unlabeled_3 = full_df.drop(index=labeled_batch.index)"
   ]
  },
  {
   "cell_type": "code",
   "execution_count": 186,
   "id": "80ae0afe",
   "metadata": {},
   "outputs": [
    {
     "name": "stdout",
     "output_type": "stream",
     "text": [
      "<class 'pandas.core.frame.DataFrame'>\n",
      "Index: 404929 entries, 423984 to 243046\n",
      "Data columns (total 10 columns):\n",
      " #   Column             Non-Null Count   Dtype                           \n",
      "---  ------             --------------   -----                           \n",
      " 0   from               404929 non-null  object                          \n",
      " 1   to                 404929 non-null  object                          \n",
      " 2   cc                 404929 non-null  object                          \n",
      " 3   bcc                404929 non-null  object                          \n",
      " 4   subject            404929 non-null  object                          \n",
      " 5   date               404929 non-null  datetime64[us, America/New_York]\n",
      " 6   msg_id             404929 non-null  object                          \n",
      " 7   clean_body         404929 non-null  object                          \n",
      " 8   has_other_content  404929 non-null  bool                            \n",
      " 9   is_forwarded       404929 non-null  bool                            \n",
      "dtypes: bool(2), datetime64[us, America/New_York](1), object(7)\n",
      "memory usage: 28.6+ MB\n"
     ]
    }
   ],
   "source": [
    "# print(train_unlabeled_1.loc[437173.0])\n",
    "train_unlabeled_3.info()"
   ]
  },
  {
   "cell_type": "markdown",
   "id": "cb75126c",
   "metadata": {},
   "source": [
    "As a sanity check, I compare the counts of emails with the previous version of the dataset -- their difference should be the size of the batch emails!"
   ]
  },
  {
   "cell_type": "code",
   "execution_count": 187,
   "id": "e666a85c",
   "metadata": {},
   "outputs": [
    {
     "name": "stdout",
     "output_type": "stream",
     "text": [
      "<class 'pandas.core.frame.DataFrame'>\n",
      "Index: 405129 entries, 423984 to 243046\n",
      "Data columns (total 10 columns):\n",
      " #   Column             Non-Null Count   Dtype                           \n",
      "---  ------             --------------   -----                           \n",
      " 0   from               405129 non-null  object                          \n",
      " 1   to                 405129 non-null  object                          \n",
      " 2   cc                 405129 non-null  object                          \n",
      " 3   bcc                405129 non-null  object                          \n",
      " 4   subject            405129 non-null  object                          \n",
      " 5   date               405129 non-null  datetime64[us, America/New_York]\n",
      " 6   msg_id             405129 non-null  object                          \n",
      " 7   clean_body         405129 non-null  object                          \n",
      " 8   has_other_content  405129 non-null  bool                            \n",
      " 9   is_forwarded       405129 non-null  bool                            \n",
      "dtypes: bool(2), datetime64[us, America/New_York](1), object(7)\n",
      "memory usage: 28.6+ MB\n"
     ]
    }
   ],
   "source": [
    "# print(train_unlabeled_0.loc[437173.0])\n",
    "train_unlabeled_2 = pd.read_parquet(\"../data/processed/train_unlabeled_2.parquet\", engine='pyarrow')\n",
    "train_unlabeled_2.info()"
   ]
  },
  {
   "cell_type": "markdown",
   "id": "cb09478c",
   "metadata": {},
   "source": [
    "I save this new larger dataset with the name of the run. At this point I had gone through the learning loop 3 times."
   ]
  },
  {
   "cell_type": "code",
   "execution_count": 188,
   "id": "2bf5a451",
   "metadata": {},
   "outputs": [],
   "source": [
    "train_unlabeled_3.to_parquet(\"../data/processed/train_unlabeled_3.parquet\", engine='pyarrow')"
   ]
  },
  {
   "cell_type": "markdown",
   "id": "f29108bb",
   "metadata": {},
   "source": [
    "Finally, I add the batch emails to the dataset I've been training the model with. Each dataset is labeled by including its row count."
   ]
  },
  {
   "cell_type": "code",
   "execution_count": 189,
   "id": "c5e1eac5",
   "metadata": {},
   "outputs": [
    {
     "name": "stdout",
     "output_type": "stream",
     "text": [
      "<class 'pandas.core.frame.DataFrame'>\n",
      "RangeIndex: 1414 entries, 0 to 1413\n",
      "Data columns (total 11 columns):\n",
      " #   Column             Non-Null Count  Dtype \n",
      "---  ------             --------------  ----- \n",
      " 0   from               1413 non-null   object\n",
      " 1   to                 1383 non-null   object\n",
      " 2   cc                 802 non-null    object\n",
      " 3   bcc                802 non-null    object\n",
      " 4   subject            1381 non-null   object\n",
      " 5   date               1413 non-null   object\n",
      " 6   msg_id             1413 non-null   object\n",
      " 7   clean_body         1327 non-null   object\n",
      " 8   has_other_content  1413 non-null   object\n",
      " 9   is_forwarded       1413 non-null   object\n",
      " 10  label              1414 non-null   object\n",
      "dtypes: object(11)\n",
      "memory usage: 121.6+ KB\n"
     ]
    }
   ],
   "source": [
    "df_1213 = pd.read_parquet(\"../data/processed/train_labeled_1213.parquet\", engine='pyarrow')\n",
    "df_1413 = pd.concat([df_1213, labeled_batch], ignore_index=True)\n",
    "df_1413.info()"
   ]
  },
  {
   "cell_type": "code",
   "execution_count": 190,
   "id": "fdb0d158",
   "metadata": {},
   "outputs": [
    {
     "name": "stdout",
     "output_type": "stream",
     "text": [
      "<class 'pandas.core.frame.DataFrame'>\n",
      "RangeIndex: 1414 entries, 0 to 1413\n",
      "Data columns (total 11 columns):\n",
      " #   Column             Non-Null Count  Dtype \n",
      "---  ------             --------------  ----- \n",
      " 0   from               1413 non-null   object\n",
      " 1   to                 1383 non-null   object\n",
      " 2   cc                 802 non-null    object\n",
      " 3   bcc                802 non-null    object\n",
      " 4   subject            1381 non-null   object\n",
      " 5   date               1413 non-null   object\n",
      " 6   msg_id             1413 non-null   object\n",
      " 7   clean_body         1327 non-null   object\n",
      " 8   has_other_content  1413 non-null   object\n",
      " 9   is_forwarded       1413 non-null   object\n",
      " 10  label              1414 non-null   object\n",
      "dtypes: object(11)\n",
      "memory usage: 121.6+ KB\n"
     ]
    }
   ],
   "source": [
    "df_1413 = df_1413.drop_duplicates(subset=[\"msg_id\"])\n",
    "df_1413.info()"
   ]
  },
  {
   "cell_type": "markdown",
   "id": "c475ff6c",
   "metadata": {},
   "source": [
    "And done! Next I repeat all the above steps after giving the model this new larger training dataset."
   ]
  },
  {
   "cell_type": "code",
   "execution_count": 191,
   "id": "7150fa38",
   "metadata": {},
   "outputs": [],
   "source": [
    "df_1413.to_parquet(\"../data/processed/train_labeled_1413.parquet\", engine='pyarrow')"
   ]
  }
 ],
 "metadata": {
  "kernelspec": {
   "display_name": ".venv",
   "language": "python",
   "name": "python3"
  },
  "language_info": {
   "codemirror_mode": {
    "name": "ipython",
    "version": 3
   },
   "file_extension": ".py",
   "mimetype": "text/x-python",
   "name": "python",
   "nbconvert_exporter": "python",
   "pygments_lexer": "ipython3",
   "version": "3.13.3"
  }
 },
 "nbformat": 4,
 "nbformat_minor": 5
}
