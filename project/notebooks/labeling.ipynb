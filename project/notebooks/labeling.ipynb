{
 "cells": [
  {
   "cell_type": "markdown",
   "id": "662a269d",
   "metadata": {},
   "source": [
    "Simple UI in Jupyter for labeling data (should've done this earlier)"
   ]
  },
  {
   "cell_type": "code",
   "execution_count": null,
   "id": "a5f103e7",
   "metadata": {},
   "outputs": [],
   "source": [
    "import pandas as pd\n",
    "from IPython.display import display, clear_output\n",
    "import ipywidgets as widgets"
   ]
  },
  {
   "cell_type": "code",
   "execution_count": null,
   "id": "fd75ce2d",
   "metadata": {},
   "outputs": [],
   "source": [
    "# Load the test set\n",
    "df = pd.read_parquet(\"../data/processed/test_2label_200_0.parquet\")\n",
    "df = df.copy()\n",
    "df[\"label\"] = \"\"\n",
    "\n",
    "# Defining label options\n",
    "label_options = [\n",
    "    \"action_required\", \"company_business\", \"purely_personal\", \"logistics\",\n",
    "    \"employment\", \"newsletter\", \"spam\", \"empty\", \"fwd_chain\"\n",
    "]\n",
    "\n",
    "def save_progress(df, path=\"../data/processed/test_labeled_200_0.parquet\"):\n",
    "    df.to_parquet(path, index=False)\n",
    "    print(f\"Progress saved to {path}\")\n",
    "\n",
    "start_idx = 0\n",
    "\n",
    "for i in range(start_idx, len(df)):\n",
    "    clear_output(wait=True)\n",
    "    print(f\"\\n--- Email {i+1} of {len(df)} ---\")\n",
    "    \n",
    "    subj = df.iloc[i][\"subject\"]\n",
    "    body = df.iloc[i][\"clean_body\"]\n",
    "    print(f\"Subject:\\n{subj}\")\n",
    "    print(\"\\nBody:\\n\", body[:1000])\n",
    "\n",
    "    dropdown = widgets.Dropdown(\n",
    "        options=label_options,\n",
    "        description='Label:',\n",
    "        disabled=False,\n",
    "    )\n",
    "\n",
    "    button = widgets.Button(description=\"Submit\")\n",
    "    output = widgets.Output()\n",
    "\n",
    "    def on_submit(b, idx=i):  # passing i to prevent errors\n",
    "        df.iloc[idx, df.columns.get_loc(\"label\")] = dropdown.value\n",
    "        save_progress(df)\n",
    "        with output:\n",
    "            clear_output(wait=True)\n",
    "            print(f\"✅ Labeled email {idx + 1} as: {dropdown.value}\")\n",
    "\n",
    "    button.on_click(lambda b, idx=i: on_submit(b, idx))  # closure fix\n",
    "    display(dropdown, button, output)\n",
    "\n",
    "    input(\"Press Enter to continue to next email...\")\n",
    "\n",
    "    if (i + 1) % 10 == 0:\n",
    "        save_progress(df)\n"
   ]
  },
  {
   "cell_type": "code",
   "execution_count": null,
   "id": "80c24164",
   "metadata": {},
   "outputs": [],
   "source": [
    "labeled = pd.read_parquet(\"../data/processed/test_labeled_200_0.parquet\")\n",
    "labeled.head(20)"
   ]
  }
 ],
 "metadata": {
  "kernelspec": {
   "display_name": ".venv",
   "language": "python",
   "name": "python3"
  },
  "language_info": {
   "codemirror_mode": {
    "name": "ipython",
    "version": 3
   },
   "file_extension": ".py",
   "mimetype": "text/x-python",
   "name": "python",
   "nbconvert_exporter": "python",
   "pygments_lexer": "ipython3",
   "version": "3.13.3"
  }
 },
 "nbformat": 4,
 "nbformat_minor": 5
}
